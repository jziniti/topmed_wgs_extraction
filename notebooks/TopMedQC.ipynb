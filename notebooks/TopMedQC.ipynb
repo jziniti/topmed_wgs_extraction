{
 "cells": [
  {
   "cell_type": "code",
   "execution_count": 8,
   "id": "fitting-jacksonville",
   "metadata": {},
   "outputs": [],
   "source": [
    "import pandas as pd\n",
    "import matplotlib.pyplot as plt\n",
    "import seaborn as sns\n",
    "from pathlib import Path\n",
    "pd.options.mode.chained_assignment = None"
   ]
  },
  {
   "cell_type": "code",
   "execution_count": 11,
   "id": "manual-moisture",
   "metadata": {},
   "outputs": [
    {
     "name": "stdout",
     "output_type": "stream",
     "text": [
      "local\n"
     ]
    }
   ],
   "source": [
    "\n",
    "if 'snakemake' in locals():\n",
    "    print('Snakemake')\n",
    "    print(f'{snakemake.input}')\n",
    "    \n",
    "    # read in file inputs\n",
    "    df_fam = pd.read_csv(snakemake.input.pop_file, delim_whitespace=True, header=None)\n",
    "    df_bim = pd.read_csv(snakemake.input.chrom_file, delim_whitespace=True, header=None)\n",
    "    sexcheck_input_file = snakemake.input.sexcheck_file\n",
    "    df_hwe = pd.read_csv(snakemake.input.hwe_file, delim_whitespace=True)\n",
    "    frq_tbl = pd.read_csv(snakemake.input.frq_file, delim_whitespace=True)\n",
    "    het_tbl = pd.read_csv(snakemake.input.het_file, delim_whitespace=True)\n",
    "    imiss_file = snakemake.input.imiss_file\n",
    "    lmiss_file = snakemake.input.lmiss_file\n",
    "    \n",
    "    # read in paramaters from snakemake file\n",
    "    Kinship = f'Kinship >= {snakemake.params.Kinship}'\n",
    "    SNPSEX = f'SNPSEX == {snakemake.params.SNPSEX}'\n",
    "    P = f'P <= {snakemake.params.P}'\n",
    "    f_bound = snakemake.params.f_bound\n",
    "    imiss_range = snakemake.params.imiss_range\n",
    "    lmiss_range = snakemake.params.lmiss_range\n",
    "    \n",
    "    sample_flags_file_name = str(snakemake.output.sample_flags)\n",
    "    marker_flags_file_name = str(snakemake.output.marker_flags)\n",
    "    s_studyid = snakemake.wildcards.s_studyid\n",
    "else:\n",
    "    print('local')\n",
    "    RUN_DIR = Path('/proj/regeps/regep00/studies/TopMed/data/dna/whole_genome/TopMed/data/freezes/freeze.10.cdnm/tmp/')\n",
    "    s_studyid = 'GECOPD'\n",
    "    \n",
    "    frq_file = RUN_DIR/f'{s_studyid}_annotated_plink_merged.frq'\n",
    "    het_file = RUN_DIR/f'{s_studyid}_annotated_plink_merged.het'\n",
    "    imiss_file = RUN_DIR/f'{s_studyid}_annotated_plink_merged.imiss'\n",
    "    lmiss_file = RUN_DIR/f'{s_studyid}_annotated_plink_merged.lmiss'\n",
    "    sexcheck_input_file = RUN_DIR/f'{s_studyid}_annotated_plink_merged.sexcheck'\n",
    "    \n",
    "    df_fam = pd.read_csv(RUN_DIR/f\"{s_studyid}_annotated_plink_merged.fam\", delim_whitespace=True, header=None)\n",
    "    df_bim = pd.read_csv(RUN_DIR/f\"{s_studyid}_annotated_plink_merged.bim.original\", delim_whitespace=True, header=None)\n",
    "    df_kin = pd.read_csv(RUN_DIR/f\"{s_studyid}_annotated_plink_merged.kin\", delim_whitespace=True)\n",
    "    df_hwe = pd.read_csv(RUN_DIR/f\"{s_studyid}_annotated_plink_merged.hwe\", delim_whitespace=True)\n",
    "    frq_tbl = pd.read_csv(frq_file, delim_whitespace=True)\n",
    "    het_tbl = pd.read_csv(het_file, delim_whitespace=True)\n",
    "    #kin0_tbl = pd.read_csv(kin0_file, delim_whitespace=True)\n",
    "    \n",
    "    \n",
    "    Kinship = \"Kinship >= 0.354\"\n",
    "    SNPSEX = \"SNPSEX == 0\"\n",
    "    P = \"P <= 0.000001\"\n",
    "    f_bound = 0.2\n",
    "    imiss_range = [10,20]\n",
    "    lmiss_range = [1,5]\n",
    "    \n",
    "    sample_flags_file_name = \"flags/GECOPD_samples.csv\"\n",
    "    marker_flags_file_name = \"flags/GECOPD_samples.csv\""
   ]
  },
  {
   "cell_type": "code",
   "execution_count": 12,
   "id": "sought-passage",
   "metadata": {},
   "outputs": [
    {
     "data": {
      "text/markdown": [
       "### GECOPD_annotated_plink_merged.fam"
      ],
      "text/plain": [
       "<IPython.core.display.Markdown object>"
      ]
     },
     "execution_count": 12,
     "metadata": {},
     "output_type": "execute_result"
    }
   ],
   "source": [
    "from IPython.display import Markdown as md\n",
    "md(f\"### {s_studyid}_annotated_plink_merged.fam\")"
   ]
  },
  {
   "cell_type": "code",
   "execution_count": 7,
   "id": "union-champion",
   "metadata": {},
   "outputs": [
    {
     "name": "stdout",
     "output_type": "stream",
     "text": [
      "Samples in Dataset: 10588\n"
     ]
    }
   ],
   "source": [
    "print(\"Samples in Dataset: \" + str(df_fam.shape[0]))"
   ]
  },
  {
   "cell_type": "markdown",
   "id": "apparent-client",
   "metadata": {},
   "source": [
    "### GECOPD_annotated_plink_merged.bim\n",
    "#### Show counts/total for column 0"
   ]
  },
  {
   "cell_type": "code",
   "execution_count": null,
   "id": "annoying-grenada",
   "metadata": {},
   "outputs": [],
   "source": [
    "print(\"# of rows in column 0: \" + str(df_bim[0].count()))"
   ]
  },
  {
   "cell_type": "code",
   "execution_count": null,
   "id": "subjective-breast",
   "metadata": {},
   "outputs": [],
   "source": [
    "f_plot = plt.figure()\n",
    "f_plot.set_figwidth(20)\n",
    "f_plot.set_figheight(10)\n",
    "\n",
    "df_bim[0].value_counts().plot(kind= \"barh\");\n",
    "plt.title(\"Chromosome Counts\");\n",
    "plt.ylabel(\"Chromosome\");\n",
    "plt.xlabel(\"Count\");"
   ]
  },
  {
   "cell_type": "code",
   "execution_count": null,
   "id": "optional-duplicate",
   "metadata": {},
   "outputs": [],
   "source": [
    "''' Shows the number of rows and the number of lost rows given certain query contrainsts on a DataFrame\n",
    "\n",
    "Input:\n",
    "    - df: DataFrame with data of interest\n",
    "    - constraints: List of querry strings \n",
    "    \n",
    "Output:\n",
    "    - result_df: DataFrame showing row count and rows lost\n",
    "'''\n",
    "def generate_lost_df(df, constraints):\n",
    "    diff_data = {}\n",
    "    \n",
    "    for curr in constraints:\n",
    "        df_contrained = df.query(curr)\n",
    "        diff_data[curr] = [df_contrained.shape[0]]\n",
    "        \n",
    "    result_df = pd.DataFrame(data=diff_data, index=[\"Row Count for Provided Constraint\"])\n",
    "        \n",
    "    return result_df"
   ]
  },
  {
   "cell_type": "markdown",
   "id": "banner-passport",
   "metadata": {},
   "source": [
    "### GECOPD_annotated_plink_merged.kin"
   ]
  },
  {
   "cell_type": "code",
   "execution_count": null,
   "id": "applicable-destiny",
   "metadata": {},
   "outputs": [],
   "source": [
    "#kin_lost_df = generate_lost_df(df_kin, [Error_one, Error_two, Kinship])\n",
    "#kin_lost_df"
   ]
  },
  {
   "cell_type": "code",
   "execution_count": null,
   "id": "visible-implement",
   "metadata": {},
   "outputs": [],
   "source": [
    "# flagged samples df_kin\n",
    "# NOTE: Include ID1 and ID2 in flagged dataframe\n",
    "#df_kin[\"Reason\"] = Error_one\n",
    "#df_kin_flagged_error_one_ID1 = df_kin.query(Error_one)[[\"ID1\", \"Reason\"]]\n",
    "#df_kin_flagged_error_one_ID2 = df_kin.query(Error_one)[[\"ID2\", \"Reason\"]]\n",
    "\n",
    "#df_kin[\"Reason\"] = Error_two\n",
    "#df_kin_flagged_error_two_ID1 = df_kin.query(Error_two)[[\"ID1\", \"Reason\"]]\n",
    "#df_kin_flagged_error_two_ID2 = df_kin.query(Error_two)[[\"ID2\", \"Reason\"]]\n",
    "\n",
    "#df_kin[\"Reason\"] = Kinship\n",
    "#df_kin_flagged_kinship_ID1 = df_kin.query(Kinship)[[\"ID1\", \"Reason\"]]\n",
    "#df_kin_flagged_kinship_ID2 = df_kin.query(Kinship)[[\"ID2\", \"Reason\"]]"
   ]
  },
  {
   "cell_type": "markdown",
   "id": "victorian-hotel",
   "metadata": {},
   "source": [
    "### GECOPD_annotated_plink_merged.sexcheck"
   ]
  },
  {
   "cell_type": "markdown",
   "id": "filled-corps",
   "metadata": {},
   "source": [
    "#### Histogram of F"
   ]
  },
  {
   "cell_type": "code",
   "execution_count": 13,
   "id": "precious-salad",
   "metadata": {},
   "outputs": [
    {
     "ename": "NameError",
     "evalue": "name 'input_sexcheck_file' is not defined",
     "output_type": "error",
     "traceback": [
      "\u001b[0;31m---------------------------------------------------------------------------\u001b[0m",
      "\u001b[0;31mNameError\u001b[0m                                 Traceback (most recent call last)",
      "\u001b[0;32m/d/tmp/rejpz/ipykernel_26329/258193909.py\u001b[0m in \u001b[0;36m<module>\u001b[0;34m\u001b[0m\n\u001b[0;32m----> 1\u001b[0;31m \u001b[0mdf_sexcheck\u001b[0m \u001b[0;34m=\u001b[0m \u001b[0mpd\u001b[0m\u001b[0;34m.\u001b[0m\u001b[0mread_csv\u001b[0m\u001b[0;34m(\u001b[0m\u001b[0minput_sexcheck_file\u001b[0m\u001b[0;34m,\u001b[0m \u001b[0mdelim_whitespace\u001b[0m\u001b[0;34m=\u001b[0m\u001b[0;32mTrue\u001b[0m\u001b[0;34m)\u001b[0m\u001b[0;34m\u001b[0m\u001b[0;34m\u001b[0m\u001b[0m\n\u001b[0m\u001b[1;32m      2\u001b[0m \u001b[0mplt\u001b[0m\u001b[0;34m.\u001b[0m\u001b[0mhist\u001b[0m\u001b[0;34m(\u001b[0m\u001b[0mdf_sexcheck\u001b[0m\u001b[0;34m[\u001b[0m\u001b[0;34m\"F\"\u001b[0m\u001b[0;34m]\u001b[0m\u001b[0;34m)\u001b[0m\u001b[0;34m;\u001b[0m\u001b[0;34m\u001b[0m\u001b[0;34m\u001b[0m\u001b[0m\n\u001b[1;32m      3\u001b[0m \u001b[0mplt\u001b[0m\u001b[0;34m.\u001b[0m\u001b[0mtitle\u001b[0m\u001b[0;34m(\u001b[0m\u001b[0;34m\"Histogram of F\"\u001b[0m\u001b[0;34m)\u001b[0m\u001b[0;34m;\u001b[0m\u001b[0;34m\u001b[0m\u001b[0;34m\u001b[0m\u001b[0m\n\u001b[1;32m      4\u001b[0m \u001b[0mplt\u001b[0m\u001b[0;34m.\u001b[0m\u001b[0mylabel\u001b[0m\u001b[0;34m(\u001b[0m\u001b[0;34m\"Frequency\"\u001b[0m\u001b[0;34m)\u001b[0m\u001b[0;34m;\u001b[0m\u001b[0;34m\u001b[0m\u001b[0;34m\u001b[0m\u001b[0m\n\u001b[1;32m      5\u001b[0m \u001b[0mplt\u001b[0m\u001b[0;34m.\u001b[0m\u001b[0mxlabel\u001b[0m\u001b[0;34m(\u001b[0m\u001b[0;34m\"F Values\"\u001b[0m\u001b[0;34m)\u001b[0m\u001b[0;34m;\u001b[0m\u001b[0;34m\u001b[0m\u001b[0;34m\u001b[0m\u001b[0m\n",
      "\u001b[0;31mNameError\u001b[0m: name 'input_sexcheck_file' is not defined"
     ]
    }
   ],
   "source": [
    "df_sexcheck = pd.read_csv(input_sexcheck_file, delim_whitespace=True)\n",
    "plt.hist(df_sexcheck[\"F\"]);\n",
    "plt.title(\"Histogram of F\");\n",
    "plt.ylabel(\"Frequency\");\n",
    "plt.xlabel(\"F Values\");"
   ]
  },
  {
   "cell_type": "markdown",
   "id": "functional-tobago",
   "metadata": {},
   "source": [
    "#### Table of SNPSEX == 0"
   ]
  },
  {
   "cell_type": "code",
   "execution_count": null,
   "id": "national-sampling",
   "metadata": {},
   "outputs": [],
   "source": [
    "df_sexcheck_lost = generate_lost_df(df_sexcheck, [SNPSEX])\n",
    "df_sexcheck_lost"
   ]
  },
  {
   "cell_type": "code",
   "execution_count": null,
   "id": "final-program",
   "metadata": {},
   "outputs": [],
   "source": [
    "# flagged samples df_sexcheck\n",
    "df_sexcheck[\"Reason\"] = SNPSEX\n",
    "df_sexcheck_flagged = df_sexcheck.query(SNPSEX)[[\"IID\", \"Reason\"]]"
   ]
  },
  {
   "cell_type": "markdown",
   "id": "cross-formula",
   "metadata": {},
   "source": [
    "#### Count of each SNPSEX value"
   ]
  },
  {
   "cell_type": "code",
   "execution_count": null,
   "id": "enhanced-chess",
   "metadata": {},
   "outputs": [],
   "source": [
    "df_sex_value_counts = df_sexcheck[\"SNPSEX\"].value_counts()\n",
    "\n",
    "plt.bar(df_sex_value_counts.index, df_sex_value_counts.values);\n",
    "plt.title(\"Value Counts of SNPSEX\");\n",
    "plt.xlabel(\"SNPSEX\");\n",
    "plt.ylabel(\"Counts\");"
   ]
  },
  {
   "cell_type": "markdown",
   "id": "balanced-jumping",
   "metadata": {},
   "source": [
    "### GECOPD_annotated_plink_merged.hwe\n",
    "#### P <= configured threshold (default=1x10^-6)"
   ]
  },
  {
   "cell_type": "code",
   "execution_count": null,
   "id": "exotic-rhythm",
   "metadata": {},
   "outputs": [],
   "source": [
    "df_hwe_lost = generate_lost_df(df_hwe, [P])\n",
    "df_hwe_lost"
   ]
  },
  {
   "cell_type": "code",
   "execution_count": null,
   "id": "occasional-pickup",
   "metadata": {},
   "outputs": [],
   "source": [
    "# flagged markers df_hwe\n",
    "df_hwe[\"Reason\"] = P\n",
    "df_hwe_flagged = df_hwe.query(P)[[\"SNP\", \"Reason\"]]"
   ]
  },
  {
   "cell_type": "markdown",
   "id": "rational-mills",
   "metadata": {},
   "source": [
    "### Heterozygosity (F coefficent)"
   ]
  },
  {
   "cell_type": "code",
   "execution_count": null,
   "id": "collectible-frost",
   "metadata": {},
   "outputs": [],
   "source": [
    "def tbl_filtered_fcoe(f):\n",
    "    \n",
    "    print('Samples out of range: '+ str(het_tbl['IID'].size - het_tbl.query('F >= -0.2 and F <= 0.2')['IID'].size) + '\\n')\n",
    "    return het_tbl.query('F >= -'+str(f)).query('F <= '+str(f))\n",
    "\n",
    "tbl_filtered_fcoe(f_bound)\n",
    "\n",
    "#for the csv of flagged samples\n",
    "het_sampleflagged = het_tbl.query('F < -0.2 or F > 0.2')\n",
    "\n",
    "#plots:\n",
    "plot = sns.displot(het_tbl['F'], kde=True).set(xlim=(-0.21, 0.21))\n",
    "plt.axvline(0.2).set(color='red')\n",
    "plt.axvline(-0.2).set(color='red')\n",
    "plt.title(\"F coefficent distribution\")\n",
    "plt.show()"
   ]
  },
  {
   "cell_type": "markdown",
   "id": "placed-jimmy",
   "metadata": {},
   "source": [
    "### Minor Allele Frequency "
   ]
  },
  {
   "cell_type": "code",
   "execution_count": null,
   "id": "polish-tsunami",
   "metadata": {},
   "outputs": [],
   "source": [
    "#Which allele is more common and percent of less common allele\n",
    "frq_tbl.head()\n",
    "#plots \n",
    "sns.displot(frq_tbl['MAF'])"
   ]
  },
  {
   "cell_type": "markdown",
   "id": "floral-pepper",
   "metadata": {},
   "source": [
    "### Sample based missing data"
   ]
  },
  {
   "cell_type": "code",
   "execution_count": null,
   "id": "orange-phase",
   "metadata": {},
   "outputs": [],
   "source": [
    "# how many individuals removed from data based on threshold \n",
    "def filter_missingdata(threshold, tbl):\n",
    "    total = len(tbl.index)\n",
    "    filtered = len(tbl.query('F_MISS >'+str(threshold)).index)\n",
    "    ppl_removed = 'Number of samples: '+str(filtered)\n",
    "    return filtered\n",
    "\n",
    "def missingness_range(rnge, tbl):\n",
    "    bounds = []\n",
    "    bounds.append(filter_missingdata((0), tbl))\n",
    "    percents = ['total samples']\n",
    "    for per in range(rnge[0],rnge[1]+1):\n",
    "        percents.append(per)\n",
    "        size = filter_missingdata((per/100), tbl)\n",
    "        bounds.append(size)\n",
    "\n",
    "    d = {'Num of samples': bounds}\n",
    "    df = pd.DataFrame(data=d, index=percents)\n",
    "    df.index.name = 'F_MISS % > _%'\n",
    "    return df\n",
    "\n",
    "imiss_tbl = pd.read_csv(imiss_file, delim_whitespace=True)\n",
    "\n",
    "print(missingness_range(imiss_range, imiss_tbl))\n",
    "print('\\n')\n",
    "\n",
    "#plots:\n",
    "sns.displot(imiss_tbl.query('F_MISS > 0.005')['F_MISS'], kde=True)\n",
    "plt.title('Distribution of missing call rate for samples')\n",
    "plt.show()"
   ]
  },
  {
   "cell_type": "markdown",
   "id": "after-freight",
   "metadata": {},
   "source": [
    "### Variant based missing data"
   ]
  },
  {
   "cell_type": "code",
   "execution_count": null,
   "id": "domestic-prague",
   "metadata": {},
   "outputs": [],
   "source": [
    "lmiss_tbl = pd.read_csv(lmiss_file, delim_whitespace=True)\n",
    "print(missingness_range(lmiss_range, lmiss_tbl))\n",
    "print('\\n')\n",
    "#plots \n",
    "sns.displot(lmiss_tbl.query('F_MISS > 0.005')['F_MISS'], kde=True)\n",
    "plt.title('Distribution of missing call rate for variants')\n",
    "plt.show()"
   ]
  },
  {
   "cell_type": "code",
   "execution_count": null,
   "id": "civilian-debate",
   "metadata": {},
   "outputs": [],
   "source": [
    "#samples flagged based on missingness \n",
    "imiss_sampleflagged = imiss_tbl.query('F_MISS > 0.1')\n",
    "\n",
    "#markers flagged based on missingness\n",
    "lmiss_sampleflagged = lmiss_tbl.query('F_MISS > 0.01')"
   ]
  },
  {
   "cell_type": "code",
   "execution_count": null,
   "id": "convenient-track",
   "metadata": {},
   "outputs": [],
   "source": [
    "#sample \n",
    "het_sampleid = het_sampleflagged.filter(['IID'])\n",
    "het_sampleid['Reason'] = 'F < -0.2 or F > 0.2'\n",
    "\n",
    "imiss_sampleid = imiss_sampleflagged.filter(['IID'])\n",
    "imiss_sampleid['Reason'] = 'F_MISS > 0.1'\n",
    "\n",
    "#flagged_samples = het_sampleid.append([imiss_sampleid, df_kin_flagged_error_one_ID1, df_kin_flagged_error_one_ID2,\n",
    "#                                       df_kin_flagged_error_two_ID1, df_kin_flagged_error_two_ID1,\n",
    "#                                       df_kin_flagged_kinship_ID1, df_kin_flagged_kinship_ID2,\n",
    "#                                       df_sexcheck_flagged])\n",
    "flagged_samples = het_sampleid.append([imiss_sampleid, df_sexcheck_flagged])\n",
    "flagged_samples.reset_index(drop=True , inplace=True)\n",
    "\n",
    "flagged_samples.to_csv(sample_flags_file_name)\n",
    "\n",
    "\n",
    "#markers\n",
    "lmiss_sampleid = lmiss_sampleflagged.filter(['SNP'])\n",
    "lmiss_sampleid['Reason'] = 'F_MISS > 0.01'\n",
    "\n",
    "flagged_markers = lmiss_sampleid.append(df_hwe_flagged)\n",
    "flagged_markers.reset_index(drop=True , inplace=True)\n",
    "\n",
    "flagged_markers.to_csv(marker_flags_file_name)"
   ]
  }
 ],
 "metadata": {
  "kernelspec": {
   "display_name": "cdnm-jupyter-python-3.7.6",
   "language": "python",
   "name": "cdnm-jupyter-python-3.7.6"
  },
  "language_info": {
   "codemirror_mode": {
    "name": "ipython",
    "version": 3
   },
   "file_extension": ".py",
   "mimetype": "text/x-python",
   "name": "python",
   "nbconvert_exporter": "python",
   "pygments_lexer": "ipython3",
   "version": "3.9.7"
  }
 },
 "nbformat": 4,
 "nbformat_minor": 5
}
