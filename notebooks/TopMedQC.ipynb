{
 "cells": [
  {
   "cell_type": "code",
   "execution_count": 3,
   "id": "fitting-jacksonville",
   "metadata": {},
   "outputs": [],
   "source": [
    "import pandas as pd\n",
    "import matplotlib.pyplot as plt\n",
    "import seaborn as sns\n",
    "pd.options.mode.chained_assignment = None"
   ]
  },
  {
   "cell_type": "code",
   "execution_count": 4,
   "id": "manual-moisture",
   "metadata": {},
   "outputs": [
    {
     "name": "stdout",
     "output_type": "stream",
     "text": [
      "local\n"
     ]
    }
   ],
   "source": [
    "if 'snakemake' in locals():\n",
    "    print('Snakemake')\n",
    "    print(f'{snakemake.input}')\n",
    "    \n",
    "    # read in file inputs\n",
    "    df_fam = pd.read_csv(snakemake.input.pop_file, delim_whitespace=True, header=None)\n",
    "    df_bim = pd.read_csv(snakemake.input.chrom_file, delim_whitespace=True, header=None)\n",
    "    df_kin = pd.read_csv(snakemake.input.kin_file, delim_whitespace=True)\n",
    "    df_sexcheck = pd.read_csv(snakemake.input.sexcheck_file, delim_whitespace=True)\n",
    "    df_hwe = pd.read_csv(snakemake.input.hwe_file, delim_whitespace=True)\n",
    "    frq_tbl = pd.read_csv(snakemake.input.frq_file, delim_whitespace=True)\n",
    "    het_tbl = pd.read_csv(snakemake.input.het_file, delim_whitespace=True)\n",
    "    imiss_tbl = pd.read_csv(snakemake.input.imiss_file, delim_whitespace=True)\n",
    "    lmiss_tbl = pd.read_csv(snakemake.input.lmiss_file, delim_whitespace=True)\n",
    "    #kin0_tbl = pd.read_csv(snakemake.input.kin0_file, delim_whitespace=True)\n",
    "    \n",
    "    # read in paramaters from snakemake file\n",
    "    Error_one = f'Error == {snakemake.params.Error_one}'\n",
    "    Error_two = f'Error == {snakemake.params.Error_two}'\n",
    "    Kinship = f'Kinship >= {snakemake.params.Kinship}'\n",
    "    SNPSEX = f'SNPSEX == {snakemake.params.SNPSEX}'\n",
    "    P = f'P <= {snakemake.params.P}'\n",
    "    f_bound = snakemake.params.f_bound\n",
    "    imiss_range = snakemake.params.imiss_range\n",
    "    lmiss_range = snakemake.params.lmiss_range\n",
    "    \n",
    "    sample_flags_file_name = str(snakemake.output.sample_flags)\n",
    "    marker_flags_file_name = str(snakemake.output.marker_flags)\n",
    "else:\n",
    "    print('local')\n",
    "    path = '/proj/regeps/regep00/studies/TopMed/data/dna/whole_genome/TopMed/data/freezes/freeze.10.cdnm/tmp/sav/'\n",
    "    s_studyid = 'GECOPD'\n",
    "    \n",
    "    frq_file = path+s_studyid+'_annotated_plink_merged.frq'\n",
    "    het_file = path+s_studyid+'_annotated_plink_merged.het'\n",
    "    imiss_file = path+s_studyid+'_annotated_plink_merged.imiss'\n",
    "    lmiss_file = path+s_studyid+'_annotated_plink_merged.lmiss'\n",
    "    #kin0_file = '/proj/regeps/regep00/studies/TopMed/data/dna/whole_genome/TopMed/data/freezes/freeze.10.cdnm/tmp/GECOPD_king.kin0'\n",
    "    \n",
    "    df_fam = pd.read_csv(\"/proj/regeps/regep00/studies/TopMed/data/dna/whole_genome/TopMed/data/freezes/freeze.10.cdnm/tmp/sav/GECOPD_annotated_plink_merged.fam\", delim_whitespace=True, header=None)\n",
    "    df_bim = pd.read_csv(\"/proj/regeps/regep00/studies/TopMed/data/dna/whole_genome/TopMed/data/freezes/freeze.10.cdnm/tmp/sav/GECOPD_annotated_plink_merged.bim.original\", delim_whitespace=True, header=None)\n",
    "    df_kin = pd.read_csv(\"/proj/regeps/regep00/studies/TopMed/data/dna/whole_genome/TopMed/data/freezes/freeze.10.cdnm/tmp/GECOPD_annotated_plink_merged.kin\", delim_whitespace=True)\n",
    "    df_sexcheck = pd.read_csv(\"/proj/regeps/regep00/studies/TopMed/data/dna/whole_genome/TopMed/data/freezes/freeze.10.cdnm/tmp/GECOPD_annotated_plink_merged.sexcheck\", delim_whitespace=True)\n",
    "    df_hwe = pd.read_csv(\"/proj/regeps/regep00/studies/TopMed/data/dna/whole_genome/TopMed/data/freezes/freeze.10.cdnm/tmp/GECOPD_annotated_plink_merged.hwe\", delim_whitespace=True)\n",
    "    frq_tbl = pd.read_csv(frq_file, delim_whitespace=True)\n",
    "    het_tbl = pd.read_csv(het_file, delim_whitespace=True)\n",
    "    imiss_tbl = pd.read_csv(imiss_file, delim_whitespace=True)\n",
    "    lmiss_tbl = pd.read_csv(lmiss_file, delim_whitespace=True)\n",
    "    #kin0_tbl = pd.read_csv(kin0_file, delim_whitespace=True)\n",
    "    \n",
    "    \n",
    "    Error_one = \"Error == 1\"\n",
    "    Error_two = \"Error == 0.5\"\n",
    "    Kinship = \"Kinship >= 0.354\"\n",
    "    SNPSEX = \"SNPSEX == 0\"\n",
    "    P = \"P <= 0.000001\"\n",
    "    f_bound = 0.2\n",
    "    imiss_range = [10,20]\n",
    "    lmiss_range = [1,5]\n",
    "    \n",
    "    sample_flags_file_name = \"flags/GECOPD_samples.csv\"\n",
    "    marker_flags_file_name = \"flags/GECOPD_samples.csv\""
   ]
  },
  {
   "cell_type": "markdown",
   "id": "finite-xerox",
   "metadata": {},
   "source": [
    "### GECOPD_annotated_plink_merged.fam\n",
    "#### Show population details"
   ]
  },
  {
   "cell_type": "code",
   "execution_count": 5,
   "id": "union-champion",
   "metadata": {},
   "outputs": [
    {
     "name": "stdout",
     "output_type": "stream",
     "text": [
      "Population...\n",
      "# of Rows: 10588\n",
      "# of Columns: 6\n"
     ]
    }
   ],
   "source": [
    "print(\"Population...\")\n",
    "print(\"# of Rows: \" + str(df_fam.shape[0]))\n",
    "print(\"# of Columns: \" + str(df_fam.shape[1]))"
   ]
  },
  {
   "cell_type": "code",
   "execution_count": 6,
   "id": "young-trauma",
   "metadata": {},
   "outputs": [
    {
     "data": {
      "text/plain": [
       "0    0\n",
       "1    0\n",
       "2    0\n",
       "3    0\n",
       "4    0\n",
       "5    0\n",
       "dtype: int64"
      ]
     },
     "execution_count": 6,
     "metadata": {},
     "output_type": "execute_result"
    }
   ],
   "source": [
    "# Show null/missing values per column\n",
    "df_fam.isnull().sum()"
   ]
  },
  {
   "cell_type": "code",
   "execution_count": 7,
   "id": "hourly-variable",
   "metadata": {},
   "outputs": [],
   "source": [
    "# Ensure that column 1 has no repeated values\n",
    "assert(df_fam[1].value_counts().sum() == df_fam.shape[0])"
   ]
  },
  {
   "cell_type": "markdown",
   "id": "apparent-client",
   "metadata": {},
   "source": [
    "### GECOPD_annotated_plink_merged.bim\n",
    "#### Show counts/total for column 0"
   ]
  },
  {
   "cell_type": "code",
   "execution_count": 8,
   "id": "annoying-grenada",
   "metadata": {},
   "outputs": [
    {
     "name": "stdout",
     "output_type": "stream",
     "text": [
      "# of rows in column 0: 55104308\n"
     ]
    }
   ],
   "source": [
    "print(\"# of rows in column 0: \" + str(df_bim[0].count()))"
   ]
  },
  {
   "cell_type": "code",
   "execution_count": 9,
   "id": "subjective-breast",
   "metadata": {},
   "outputs": [
    {
     "data": {
      "image/png": "[encoded data removed]",
      "text/plain": [
       "<Figure size 1440x720 with 1 Axes>"
      ]
     },
     "metadata": {
      "needs_background": "light"
     },
     "output_type": "display_data"
    }
   ],
   "source": [
    "f_plot = plt.figure()\n",
    "f_plot.set_figwidth(20)\n",
    "f_plot.set_figheight(10)\n",
    "\n",
    "df_bim[0].value_counts().plot(kind= \"barh\");\n",
    "plt.title(\"Chromosome Counts\");\n",
    "plt.ylabel(\"Chromosome\");\n",
    "plt.xlabel(\"Count\");"
   ]
  },
  {
   "cell_type": "code",
   "execution_count": 10,
   "id": "optional-duplicate",
   "metadata": {},
   "outputs": [],
   "source": [
    "''' Shows the number of rows and the number of lost rows given certain query contrainsts on a DataFrame\n",
    "\n",
    "Input:\n",
    "    - df: DataFrame with data of interest\n",
    "    - constraints: List of querry strings \n",
    "    \n",
    "Output:\n",
    "    - result_df: DataFrame showing row count and rows lost\n",
    "'''\n",
    "def generate_lost_df(df, constraints):\n",
    "    diff_data = {}\n",
    "    \n",
    "    for curr in constraints:\n",
    "        df_contrained = df.query(curr)\n",
    "        diff_data[curr] = [df_contrained.shape[0]]\n",
    "        \n",
    "    result_df = pd.DataFrame(data=diff_data, index=[\"Row Count for Provided Constraint\"])\n",
    "        \n",
    "    return result_df"
   ]
  },
  {
   "cell_type": "markdown",
   "id": "banner-passport",
   "metadata": {},
   "source": [
    "### GECOPD_annotated_plink_merged.kin"
   ]
  },
  {
   "cell_type": "markdown",
   "id": "original-kelly",
   "metadata": {},
   "source": [
    "#### Show Error=1, Error=0.5, Kinship >= 0.354"
   ]
  },
  {
   "cell_type": "code",
   "execution_count": 11,
   "id": "applicable-destiny",
   "metadata": {},
   "outputs": [
    {
     "data": {
      "text/html": [
       "<div>\n",
       "<style scoped>\n",
       "    .dataframe tbody tr th:only-of-type {\n",
       "        vertical-align: middle;\n",
       "    }\n",
       "\n",
       "    .dataframe tbody tr th {\n",
       "        vertical-align: top;\n",
       "    }\n",
       "\n",
       "    .dataframe thead th {\n",
       "        text-align: right;\n",
       "    }\n",
       "</style>\n",
       "<table border=\"1\" class=\"dataframe\">\n",
       "  <thead>\n",
       "    <tr style=\"text-align: right;\">\n",
       "      <th></th>\n",
       "      <th>Error == 1</th>\n",
       "      <th>Error == 0.5</th>\n",
       "      <th>Kinship &gt;= 0.354</th>\n",
       "    </tr>\n",
       "  </thead>\n",
       "  <tbody>\n",
       "    <tr>\n",
       "      <th>Row Count for Provided Constraint</th>\n",
       "      <td>29346</td>\n",
       "      <td>1816277</td>\n",
       "      <td>164</td>\n",
       "    </tr>\n",
       "  </tbody>\n",
       "</table>\n",
       "</div>"
      ],
      "text/plain": [
       "                                   Error == 1  Error == 0.5  Kinship >= 0.354\n",
       "Row Count for Provided Constraint       29346       1816277               164"
      ]
     },
     "execution_count": 11,
     "metadata": {},
     "output_type": "execute_result"
    }
   ],
   "source": [
    "kin_lost_df = generate_lost_df(df_kin, [Error_one, Error_two, Kinship])\n",
    "kin_lost_df"
   ]
  },
  {
   "cell_type": "code",
   "execution_count": 12,
   "id": "visible-implement",
   "metadata": {},
   "outputs": [],
   "source": [
    "# flagged samples df_kin\n",
    "# NOTE: Include ID1 and ID2 in flagged dataframe\n",
    "df_kin[\"Reason\"] = Error_one\n",
    "df_kin_flagged_error_one_ID1 = df_kin.query(Error_one)[[\"ID1\", \"Reason\"]]\n",
    "df_kin_flagged_error_one_ID2 = df_kin.query(Error_one)[[\"ID2\", \"Reason\"]]\n",
    "\n",
    "df_kin[\"Reason\"] = Error_two\n",
    "df_kin_flagged_error_two_ID1 = df_kin.query(Error_two)[[\"ID1\", \"Reason\"]]\n",
    "df_kin_flagged_error_two_ID2 = df_kin.query(Error_two)[[\"ID2\", \"Reason\"]]\n",
    "\n",
    "df_kin[\"Reason\"] = Kinship\n",
    "df_kin_flagged_kinship_ID1 = df_kin.query(Kinship)[[\"ID1\", \"Reason\"]]\n",
    "df_kin_flagged_kinship_ID2 = df_kin.query(Kinship)[[\"ID2\", \"Reason\"]]"
   ]
  },
  {
   "cell_type": "markdown",
   "id": "victorian-hotel",
   "metadata": {},
   "source": [
    "### GECOPD_annotated_plink_merged.sexcheck"
   ]
  },
  {
   "cell_type": "markdown",
   "id": "filled-corps",
   "metadata": {},
   "source": [
    "#### Histogram of F"
   ]
  },
  {
   "cell_type": "code",
   "execution_count": 13,
   "id": "precious-salad",
   "metadata": {},
   "outputs": [
    {
     "data": {
      "image/png": "[encoded data removed]",
      "text/plain": [
       "<Figure size 432x288 with 1 Axes>"
      ]
     },
     "metadata": {
      "needs_background": "light"
     },
     "output_type": "display_data"
    }
   ],
   "source": [
    "plt.hist(df_sexcheck[\"F\"]);\n",
    "plt.title(\"Histogram of F\");\n",
    "plt.ylabel(\"Frequency\");\n",
    "plt.xlabel(\"F Values\");"
   ]
  },
  {
   "cell_type": "markdown",
   "id": "functional-tobago",
   "metadata": {},
   "source": [
    "#### Table of SNPSEX == 0"
   ]
  },
  {
   "cell_type": "code",
   "execution_count": 14,
   "id": "national-sampling",
   "metadata": {},
   "outputs": [
    {
     "data": {
      "text/html": [
       "<div>\n",
       "<style scoped>\n",
       "    .dataframe tbody tr th:only-of-type {\n",
       "        vertical-align: middle;\n",
       "    }\n",
       "\n",
       "    .dataframe tbody tr th {\n",
       "        vertical-align: top;\n",
       "    }\n",
       "\n",
       "    .dataframe thead th {\n",
       "        text-align: right;\n",
       "    }\n",
       "</style>\n",
       "<table border=\"1\" class=\"dataframe\">\n",
       "  <thead>\n",
       "    <tr style=\"text-align: right;\">\n",
       "      <th></th>\n",
       "      <th>SNPSEX == 0</th>\n",
       "    </tr>\n",
       "  </thead>\n",
       "  <tbody>\n",
       "    <tr>\n",
       "      <th>Row Count for Provided Constraint</th>\n",
       "      <td>3060</td>\n",
       "    </tr>\n",
       "  </tbody>\n",
       "</table>\n",
       "</div>"
      ],
      "text/plain": [
       "                                   SNPSEX == 0\n",
       "Row Count for Provided Constraint         3060"
      ]
     },
     "execution_count": 14,
     "metadata": {},
     "output_type": "execute_result"
    }
   ],
   "source": [
    "df_sexcheck_lost = generate_lost_df(df_sexcheck, [SNPSEX])\n",
    "df_sexcheck_lost"
   ]
  },
  {
   "cell_type": "code",
   "execution_count": 15,
   "id": "final-program",
   "metadata": {},
   "outputs": [],
   "source": [
    "# flagged samples df_sexcheck\n",
    "df_sexcheck[\"Reason\"] = SNPSEX\n",
    "df_sexcheck_flagged = df_sexcheck.query(SNPSEX)[[\"IID\", \"Reason\"]]"
   ]
  },
  {
   "cell_type": "markdown",
   "id": "cross-formula",
   "metadata": {},
   "source": [
    "#### Count of each SNPSEX value"
   ]
  },
  {
   "cell_type": "code",
   "execution_count": 16,
   "id": "enhanced-chess",
   "metadata": {},
   "outputs": [
    {
     "data": {
      "image/png": "[encoded data removed]",
      "text/plain": [
       "<Figure size 432x288 with 1 Axes>"
      ]
     },
     "metadata": {
      "needs_background": "light"
     },
     "output_type": "display_data"
    }
   ],
   "source": [
    "df_sex_value_counts = df_sexcheck[\"SNPSEX\"].value_counts()\n",
    "\n",
    "plt.bar(df_sex_value_counts.index, df_sex_value_counts.values);\n",
    "plt.title(\"Value Counts of SNPSEX\");\n",
    "plt.xlabel(\"SNPSEX\");\n",
    "plt.ylabel(\"Counts\");"
   ]
  },
  {
   "cell_type": "markdown",
   "id": "balanced-jumping",
   "metadata": {},
   "source": [
    "### GECOPD_annotated_plink_merged.hwe\n",
    "#### P <= configured threshold (default=1x10^-6)"
   ]
  },
  {
   "cell_type": "code",
   "execution_count": 17,
   "id": "exotic-rhythm",
   "metadata": {},
   "outputs": [
    {
     "data": {
      "text/html": [
       "<div>\n",
       "<style scoped>\n",
       "    .dataframe tbody tr th:only-of-type {\n",
       "        vertical-align: middle;\n",
       "    }\n",
       "\n",
       "    .dataframe tbody tr th {\n",
       "        vertical-align: top;\n",
       "    }\n",
       "\n",
       "    .dataframe thead th {\n",
       "        text-align: right;\n",
       "    }\n",
       "</style>\n",
       "<table border=\"1\" class=\"dataframe\">\n",
       "  <thead>\n",
       "    <tr style=\"text-align: right;\">\n",
       "      <th></th>\n",
       "      <th>P &lt;= 0.000001</th>\n",
       "    </tr>\n",
       "  </thead>\n",
       "  <tbody>\n",
       "    <tr>\n",
       "      <th>Row Count for Provided Constraint</th>\n",
       "      <td>4695395</td>\n",
       "    </tr>\n",
       "  </tbody>\n",
       "</table>\n",
       "</div>"
      ],
      "text/plain": [
       "                                   P <= 0.000001\n",
       "Row Count for Provided Constraint        4695395"
      ]
     },
     "execution_count": 17,
     "metadata": {},
     "output_type": "execute_result"
    }
   ],
   "source": [
    "df_hwe_lost = generate_lost_df(df_hwe, [P])\n",
    "df_hwe_lost"
   ]
  },
  {
   "cell_type": "code",
   "execution_count": 18,
   "id": "occasional-pickup",
   "metadata": {},
   "outputs": [],
   "source": [
    "# flagged markers df_hwe\n",
    "df_hwe[\"Reason\"] = P\n",
    "df_hwe_flagged = df_hwe.query(P)[[\"SNP\", \"Reason\"]]"
   ]
  },
  {
   "cell_type": "markdown",
   "id": "rational-mills",
   "metadata": {},
   "source": [
    "### F coefficent estimates"
   ]
  },
  {
   "cell_type": "code",
   "execution_count": 19,
   "id": "collectible-frost",
   "metadata": {},
   "outputs": [
    {
     "name": "stdout",
     "output_type": "stream",
     "text": [
      "Samples out of range: 4\n",
      "\n"
     ]
    },
    {
     "data": {
      "image/png": "[encoded data removed]",
      "text/plain": [
       "<Figure size 360x360 with 1 Axes>"
      ]
     },
     "metadata": {
      "needs_background": "light"
     },
     "output_type": "display_data"
    }
   ],
   "source": [
    "def tbl_filtered_fcoe(f):\n",
    "    \n",
    "    print('Samples out of range: '+ str(het_tbl['IID'].size - het_tbl.query('F >= -0.2 and F <= 0.2')['IID'].size) + '\\n')\n",
    "    return het_tbl.query('F >= -'+str(f)).query('F <= '+str(f))\n",
    "\n",
    "tbl_filtered_fcoe(f_bound)\n",
    "\n",
    "#for the csv of flagged samples\n",
    "het_sampleflagged = het_tbl.query('F < -0.2 or F > 0.2')\n",
    "\n",
    "#plots:\n",
    "plot = sns.displot(het_tbl['F'], kde=True).set(xlim=(-0.21, 0.21))\n",
    "plt.axvline(0.2).set(color='red')\n",
    "plt.axvline(-0.2).set(color='red')\n",
    "plt.title(\"F coefficent distribution\")\n",
    "plt.show()"
   ]
  },
  {
   "cell_type": "markdown",
   "id": "placed-jimmy",
   "metadata": {},
   "source": [
    "### Minor Allele Frequency "
   ]
  },
  {
   "cell_type": "code",
   "execution_count": 20,
   "id": "polish-tsunami",
   "metadata": {},
   "outputs": [
    {
     "data": {
      "text/plain": [
       "<seaborn.axisgrid.FacetGrid at 0x7fe645c19730>"
      ]
     },
     "execution_count": 20,
     "metadata": {},
     "output_type": "execute_result"
    },
    {
     "data": {
      "image/png": "[encoded data removed]",
      "text/plain": [
       "<Figure size 360x360 with 1 Axes>"
      ]
     },
     "metadata": {
      "needs_background": "light"
     },
     "output_type": "display_data"
    }
   ],
   "source": [
    "#Which allele is more common and percent of less common allele\n",
    "frq_tbl.head()\n",
    "#plots \n",
    "sns.displot(frq_tbl['A1'])"
   ]
  },
  {
   "cell_type": "markdown",
   "id": "floral-pepper",
   "metadata": {},
   "source": [
    "### Sample based missing data"
   ]
  },
  {
   "cell_type": "code",
   "execution_count": 21,
   "id": "orange-phase",
   "metadata": {},
   "outputs": [
    {
     "name": "stdout",
     "output_type": "stream",
     "text": [
      "               Num of samples\n",
      "F_MISS % > _%                \n",
      "total samples           10588\n",
      "10                         24\n",
      "11                         21\n",
      "12                         19\n",
      "13                         17\n",
      "14                         16\n",
      "15                         16\n",
      "16                         14\n",
      "17                         10\n",
      "18                          9\n",
      "19                          7\n",
      "20                          7\n",
      "\n",
      "\n"
     ]
    },
    {
     "data": {
      "image/png": "[encoded data removed]",
      "text/plain": [
       "<Figure size 360x360 with 1 Axes>"
      ]
     },
     "metadata": {
      "needs_background": "light"
     },
     "output_type": "display_data"
    }
   ],
   "source": [
    "# how many individuals removed from data based on threshold \n",
    "def filter_missingdata(threshold, tbl):\n",
    "    total = len(tbl.index)\n",
    "    filtered = len(tbl.query('F_MISS >'+str(threshold)).index)\n",
    "    ppl_removed = 'Number of samples: '+str(filtered)\n",
    "    return filtered\n",
    "\n",
    "def missingness_range(rnge, tbl):\n",
    "    bounds = []\n",
    "    bounds.append(filter_missingdata((0), tbl))\n",
    "    percents = ['total samples']\n",
    "    for per in range(rnge[0],rnge[1]+1):\n",
    "        percents.append(per)\n",
    "        size = filter_missingdata((per/100), tbl)\n",
    "        bounds.append(size)\n",
    "\n",
    "    d = {'Num of samples': bounds}\n",
    "    df = pd.DataFrame(data=d, index=percents)\n",
    "    df.index.name = 'F_MISS % > _%'\n",
    "    return df\n",
    "\n",
    "print(missingness_range(imiss_range, imiss_tbl))\n",
    "print('\\n')\n",
    "\n",
    "#plots:\n",
    "sns.displot(imiss_tbl.query('F_MISS > 0.005')['F_MISS'], kde=True)\n",
    "plt.title('Distribution of missing call rate for samples')\n",
    "plt.show()"
   ]
  },
  {
   "cell_type": "markdown",
   "id": "after-freight",
   "metadata": {},
   "source": [
    "### Variant based missing data"
   ]
  },
  {
   "cell_type": "code",
   "execution_count": 22,
   "id": "domestic-prague",
   "metadata": {},
   "outputs": [
    {
     "name": "stdout",
     "output_type": "stream",
     "text": [
      "               Num of samples\n",
      "F_MISS % > _%                \n",
      "total samples        38558313\n",
      "1                      238396\n",
      "2                           0\n",
      "3                           0\n",
      "4                           0\n",
      "5                           0\n",
      "\n",
      "\n"
     ]
    },
    {
     "data": {
      "image/png": "[encoded data removed]",
      "text/plain": [
       "<Figure size 360x360 with 1 Axes>"
      ]
     },
     "metadata": {
      "needs_background": "light"
     },
     "output_type": "display_data"
    }
   ],
   "source": [
    "print(missingness_range(lmiss_range, lmiss_tbl))\n",
    "print('\\n')\n",
    "#plots \n",
    "sns.displot(lmiss_tbl.query('F_MISS > 0.005')['F_MISS'], kde=True)\n",
    "plt.title('Distribution of missing call rate for variants')\n",
    "plt.show()"
   ]
  },
  {
   "cell_type": "code",
   "execution_count": 23,
   "id": "civilian-debate",
   "metadata": {},
   "outputs": [],
   "source": [
    "#samples flagged based on missingness \n",
    "imiss_sampleflagged = imiss_tbl.query('F_MISS > 0.1')\n",
    "\n",
    "#markers flagged based on missingness\n",
    "lmiss_sampleflagged = lmiss_tbl.query('F_MISS > 0.01')"
   ]
  },
  {
   "cell_type": "code",
   "execution_count": 30,
   "id": "convenient-track",
   "metadata": {},
   "outputs": [],
   "source": [
    "#sample \n",
    "het_sampleid = het_sampleflagged.filter(['IID'])\n",
    "het_sampleid['Reason'] = 'F < -0.2 or F > 0.2'\n",
    "\n",
    "imiss_sampleid = imiss_sampleflagged.filter(['IID'])\n",
    "imiss_sampleid['Reason'] = 'F_MISS > 0.1'\n",
    "\n",
    "flagged_samples = het_sampleid.append([imiss_sampleid, df_kin_flagged_error_one_ID1, df_kin_flagged_error_one_ID2,\n",
    "                                       df_kin_flagged_error_two_ID1, df_kin_flagged_error_two_ID1,\n",
    "                                       df_kin_flagged_kinship_ID1, df_kin_flagged_kinship_ID2,\n",
    "                                       df_sexcheck_flagged])\n",
    "flagged_samples.reset_index(drop=True , inplace=True)\n",
    "\n",
    "flagged_samples.to_csv(sample_flags_file_name)\n",
    "\n",
    "\n",
    "#markers\n",
    "lmiss_sampleid = lmiss_sampleflagged.filter(['SNP'])\n",
    "lmiss_sampleid['Reason'] = 'F_MISS > 0.01'\n",
    "\n",
    "flagged_markers = lmiss_sampleid.append(df_hwe_flagged)\n",
    "flagged_markers.reset_index(drop=True , inplace=True)\n",
    "\n",
    "flagged_markers.to_csv(marker_flags_file_name)"
   ]
  },
  {
   "cell_type": "code",
   "execution_count": null,
   "id": "annoying-lover",
   "metadata": {},
   "outputs": [],
   "source": []
  },
  {
   "cell_type": "markdown",
   "id": "constitutional-gabriel",
   "metadata": {},
   "source": [
    "### Kinship data"
   ]
  },
  {
   "cell_type": "code",
   "execution_count": null,
   "id": "boolean-constant",
   "metadata": {},
   "outputs": [],
   "source": [
    "#def filter_kinship(kin):\n",
    "#    return kin0_tbl[kin0_tbl['Kinship'] >= kin]\n",
    "\n",
    "#filter_kinship(Kinship)\n",
    "\n",
    "#plots:\n",
    "#plt.scatter(kin0_tbl['Kinship'], kin0_tbl['IBS0'], alpha=0.3)"
   ]
  },
  {
   "cell_type": "code",
   "execution_count": null,
   "id": "portable-phase",
   "metadata": {},
   "outputs": [],
   "source": []
  }
 ],
 "metadata": {
  "kernelspec": {
   "display_name": "cdnm-jupyter-python-3.7.6",
   "language": "python",
   "name": "cdnm-jupyter-python-3.7.6"
  },
  "language_info": {
   "codemirror_mode": {
    "name": "ipython",
    "version": 3
   },
   "file_extension": ".py",
   "mimetype": "text/x-python",
   "name": "python",
   "nbconvert_exporter": "python",
   "pygments_lexer": "ipython3",
   "version": "3.9.7"
  }
 },
 "nbformat": 4,
 "nbformat_minor": 5
}
