{
 "cells": [
  {
   "cell_type": "code",
   "execution_count": 2,
   "id": "cubic-bacteria",
   "metadata": {},
   "outputs": [],
   "source": [
    "import pandas as pd\n",
    "import matplotlib.pyplot as plt"
   ]
  },
  {
   "cell_type": "code",
   "execution_count": 3,
   "id": "statistical-elevation",
   "metadata": {},
   "outputs": [],
   "source": [
    "df_fam = pd.read_csv(\"/proj/regeps/regep00/studies/TopMed/data/dna/whole_genome/TopMed/data/freezes/freeze.10.cdnm/tmp/GECOPD_annotated_plink_merged.fam\", delim_whitespace=True, header=None)"
   ]
  },
  {
   "cell_type": "code",
   "execution_count": 4,
   "id": "configured-visit",
   "metadata": {},
   "outputs": [],
   "source": [
    "df_bim = pd.read_csv(\"/proj/regeps/regep00/studies/TopMed/data/dna/whole_genome/TopMed/data/freezes/freeze.10.cdnm/tmp/GECOPD_annotated_plink_merged.bim\", delim_whitespace=True, header=None)"
   ]
  },
  {
   "cell_type": "code",
   "execution_count": 5,
   "id": "protective-governor",
   "metadata": {},
   "outputs": [],
   "source": [
    "df_kin = pd.read_csv(\"/proj/regeps/regep00/studies/TopMed/data/dna/whole_genome/TopMed/data/freezes/freeze.10.cdnm/tmp/GECOPD_annotated_plink_merged.kin\", delim_whitespace=True)"
   ]
  },
  {
   "cell_type": "code",
   "execution_count": 6,
   "id": "unlikely-bishop",
   "metadata": {},
   "outputs": [],
   "source": [
    "df_sexcheck = pd.read_csv(\"/proj/regeps/regep00/studies/TopMed/data/dna/whole_genome/TopMed/data/freezes/freeze.10.cdnm/tmp/GECOPD_annotated_plink_merged.sexcheck\", delim_whitespace=True)"
   ]
  },
  {
   "cell_type": "code",
   "execution_count": 33,
   "id": "responsible-stock",
   "metadata": {},
   "outputs": [],
   "source": [
    "df_hwe = pd.read_csv(\"/proj/regeps/regep00/studies/TopMed/data/dna/whole_genome/TopMed/data/freezes/freeze.10.cdnm/tmp/GECOPD_annotated_plink_merged.hwe\", delim_whitespace=True)"
   ]
  },
  {
   "cell_type": "markdown",
   "id": "forty-demonstration",
   "metadata": {},
   "source": [
    "### GECOPD_annotated_plink_merged.fam\n",
    "#### Show population details"
   ]
  },
  {
   "cell_type": "code",
   "execution_count": 4,
   "id": "embedded-playing",
   "metadata": {},
   "outputs": [
    {
     "name": "stdout",
     "output_type": "stream",
     "text": [
      "Population...\n",
      "# of Rows: 10588\n",
      "# of Columns: 6\n"
     ]
    }
   ],
   "source": [
    "print(\"Population...\")\n",
    "print(\"# of Rows: \" + str(df_fam.shape[0]))\n",
    "print(\"# of Columns: \" + str(df_fam.shape[1]))"
   ]
  },
  {
   "cell_type": "code",
   "execution_count": 35,
   "id": "coral-clause",
   "metadata": {},
   "outputs": [
    {
     "data": {
      "text/plain": [
       "0    0\n",
       "1    0\n",
       "2    0\n",
       "3    0\n",
       "4    0\n",
       "5    0\n",
       "dtype: int64"
      ]
     },
     "execution_count": 35,
     "metadata": {},
     "output_type": "execute_result"
    }
   ],
   "source": [
    "# Show null/missing values per column\n",
    "df_fam.isnull().sum()"
   ]
  },
  {
   "cell_type": "code",
   "execution_count": 36,
   "id": "sharing-penalty",
   "metadata": {},
   "outputs": [],
   "source": [
    "# Ensure that column 1 has no repeated values\n",
    "assert(df_fam[1].value_counts().sum() == df_fam.shape[0])"
   ]
  },
  {
   "cell_type": "markdown",
   "id": "wooden-singing",
   "metadata": {},
   "source": [
    "### GECOPD_annotated_plink_merged.bim\n",
    "#### Show counts/total for column 0"
   ]
  },
  {
   "cell_type": "code",
   "execution_count": 37,
   "id": "retained-queensland",
   "metadata": {},
   "outputs": [
    {
     "name": "stdout",
     "output_type": "stream",
     "text": [
      "# of rows in column 0: 55104308\n"
     ]
    }
   ],
   "source": [
    "print(\"# of rows in column 0: \" + str(df_bim[0].count()))"
   ]
  },
  {
   "cell_type": "code",
   "execution_count": 38,
   "id": "iraqi-merit",
   "metadata": {
    "scrolled": false
   },
   "outputs": [
    {
     "data": {
      "text/plain": [
       "2     4541038\n",
       "1     4184003\n",
       "3     3760895\n",
       "4     3711383\n",
       "5     3448161\n",
       "6     3274129\n",
       "7     3071887\n",
       "8     2986204\n",
       "11    2612348\n",
       "10    2604176\n",
       "12    2509373\n",
       "23    2484349\n",
       "9     2327673\n",
       "13    1865224\n",
       "16    1731360\n",
       "14    1679950\n",
       "15    1539699\n",
       "17    1503400\n",
       "18    1489892\n",
       "20    1204631\n",
       "19    1163993\n",
       "22     716997\n",
       "21     693543\n",
       "Name: 0, dtype: int64"
      ]
     },
     "execution_count": 38,
     "metadata": {},
     "output_type": "execute_result"
    }
   ],
   "source": [
    "df_bim[0].value_counts()"
   ]
  },
  {
   "cell_type": "code",
   "execution_count": 39,
   "id": "excess-frame",
   "metadata": {},
   "outputs": [
    {
     "data": {
      "image/png": "[encoded data removed]",
      "text/plain": [
       "<Figure size 1440x720 with 1 Axes>"
      ]
     },
     "metadata": {
      "needs_background": "light"
     },
     "output_type": "display_data"
    }
   ],
   "source": [
    "f = plt.figure()\n",
    "f.set_figwidth(20)\n",
    "f.set_figheight(10)\n",
    "\n",
    "df_bim[0].value_counts().plot(kind= \"barh\");\n",
    "plt.title(\"Chromosome Counts\");\n",
    "plt.ylabel(\"Chromosome\");\n",
    "plt.xlabel(\"Count\");"
   ]
  },
  {
   "cell_type": "markdown",
   "id": "monthly-calibration",
   "metadata": {},
   "source": [
    "### GECOPD_annotated_plink_merged.kin"
   ]
  },
  {
   "cell_type": "markdown",
   "id": "indian-night",
   "metadata": {},
   "source": [
    "#### Show Error=1, Error=0.5, Kinship >= 0.354"
   ]
  },
  {
   "cell_type": "code",
   "execution_count": 40,
   "id": "ambient-rogers",
   "metadata": {},
   "outputs": [
    {
     "data": {
      "text/html": [
       "<div>\n",
       "<style scoped>\n",
       "    .dataframe tbody tr th:only-of-type {\n",
       "        vertical-align: middle;\n",
       "    }\n",
       "\n",
       "    .dataframe tbody tr th {\n",
       "        vertical-align: top;\n",
       "    }\n",
       "\n",
       "    .dataframe thead th {\n",
       "        text-align: right;\n",
       "    }\n",
       "</style>\n",
       "<table border=\"1\" class=\"dataframe\">\n",
       "  <thead>\n",
       "    <tr style=\"text-align: right;\">\n",
       "      <th></th>\n",
       "      <th>Error == 1</th>\n",
       "      <th>Error == 0.5</th>\n",
       "      <th>Kinship &gt;= 0.354</th>\n",
       "    </tr>\n",
       "  </thead>\n",
       "  <tbody>\n",
       "    <tr>\n",
       "      <th>Row Count</th>\n",
       "      <td>29346</td>\n",
       "      <td>1816277</td>\n",
       "      <td>164</td>\n",
       "    </tr>\n",
       "    <tr>\n",
       "      <th>Rows Lost</th>\n",
       "      <td>56018232</td>\n",
       "      <td>54231301</td>\n",
       "      <td>56047414</td>\n",
       "    </tr>\n",
       "  </tbody>\n",
       "</table>\n",
       "</div>"
      ],
      "text/plain": [
       "           Error == 1  Error == 0.5  Kinship >= 0.354\n",
       "Row Count       29346       1816277               164\n",
       "Rows Lost    56018232      54231301          56047414"
      ]
     },
     "execution_count": 40,
     "metadata": {},
     "output_type": "execute_result"
    }
   ],
   "source": [
    "df_kin_error1 = df_kin[df_kin[\"Error\"] == 1]\n",
    "df_kin_error05 = df_kin[df_kin[\"Error\"] == 0.5]\n",
    "df_kin_kinship03 = df_kin[df_kin[\"Kinship\"] >= 0.354]\n",
    "\n",
    "kin_stats_data = { \n",
    "    \"Error == 1\": [df_kin_error1.shape[0], df_kin.shape[0] - df_kin_error1.shape[0]],\n",
    "    \"Error == 0.5\": [df_kin_error05.count()[0], df_kin.shape[0] - df_kin_error05.shape[0]],\n",
    "    \"Kinship >= 0.354\": [df_kin_kinship03.count()[0], df_kin.shape[0] - df_kin_kinship03.count()[0]]\n",
    "}\n",
    "\n",
    "df_kin_stats = pd.DataFrame(data=kin_stats_data, index=[\"Row Count\", \"Rows Lost\"])\n",
    "df_kin_stats"
   ]
  },
  {
   "cell_type": "markdown",
   "id": "beautiful-vertical",
   "metadata": {},
   "source": [
    "### GECOPD_annotated_plink_merged.sexcheck"
   ]
  },
  {
   "cell_type": "markdown",
   "id": "typical-madonna",
   "metadata": {},
   "source": [
    "#### Histogram of F"
   ]
  },
  {
   "cell_type": "code",
   "execution_count": 41,
   "id": "substantial-battle",
   "metadata": {},
   "outputs": [
    {
     "data": {
      "image/png": "[encoded data removed]",
      "text/plain": [
       "<Figure size 432x288 with 1 Axes>"
      ]
     },
     "metadata": {
      "needs_background": "light"
     },
     "output_type": "display_data"
    }
   ],
   "source": [
    "plt.hist(df_sexcheck[\"F\"]);\n",
    "plt.title(\"Histogram of F\");\n",
    "plt.ylabel(\"Frequency\");\n",
    "plt.xlabel(\"F Values\");"
   ]
  },
  {
   "cell_type": "markdown",
   "id": "electoral-swedish",
   "metadata": {},
   "source": [
    "#### Table of SNPSEX == 0"
   ]
  },
  {
   "cell_type": "code",
   "execution_count": 42,
   "id": "aboriginal-folks",
   "metadata": {},
   "outputs": [
    {
     "data": {
      "text/html": [
       "<div>\n",
       "<style scoped>\n",
       "    .dataframe tbody tr th:only-of-type {\n",
       "        vertical-align: middle;\n",
       "    }\n",
       "\n",
       "    .dataframe tbody tr th {\n",
       "        vertical-align: top;\n",
       "    }\n",
       "\n",
       "    .dataframe thead th {\n",
       "        text-align: right;\n",
       "    }\n",
       "</style>\n",
       "<table border=\"1\" class=\"dataframe\">\n",
       "  <thead>\n",
       "    <tr style=\"text-align: right;\">\n",
       "      <th></th>\n",
       "      <th>SNPSEX == 0</th>\n",
       "    </tr>\n",
       "  </thead>\n",
       "  <tbody>\n",
       "    <tr>\n",
       "      <th>Row Count</th>\n",
       "      <td>3026</td>\n",
       "    </tr>\n",
       "    <tr>\n",
       "      <th>Rows Lost</th>\n",
       "      <td>7562</td>\n",
       "    </tr>\n",
       "  </tbody>\n",
       "</table>\n",
       "</div>"
      ],
      "text/plain": [
       "           SNPSEX == 0\n",
       "Row Count         3026\n",
       "Rows Lost         7562"
      ]
     },
     "execution_count": 42,
     "metadata": {},
     "output_type": "execute_result"
    }
   ],
   "source": [
    "df_sexcheck_SNPSEX0 = df_sexcheck[df_sexcheck[\"SNPSEX\"] == 0]\n",
    "\n",
    "sexcheck_diff = {\n",
    "    \"SNPSEX == 0\": [df_sexcheck_SNPSEX0.shape[0], df_sexcheck.shape[0] - df_sexcheck_SNPSEX0.shape[0]]\n",
    "}\n",
    "\n",
    "df_sexcheck_diff = pd.DataFrame(data=sexcheck_diff, index=[\"Row Count\", \"Rows Lost\"])\n",
    "df_sexcheck_diff"
   ]
  },
  {
   "cell_type": "markdown",
   "id": "hindu-forth",
   "metadata": {},
   "source": [
    "#### Count of each SNPSEX value"
   ]
  },
  {
   "cell_type": "code",
   "execution_count": 43,
   "id": "verbal-assessment",
   "metadata": {},
   "outputs": [
    {
     "data": {
      "text/plain": [
       "1    5623\n",
       "0    3026\n",
       "2    1939\n",
       "Name: SNPSEX, dtype: int64"
      ]
     },
     "execution_count": 43,
     "metadata": {},
     "output_type": "execute_result"
    }
   ],
   "source": [
    "df_sexcheck[\"SNPSEX\"].value_counts()"
   ]
  },
  {
   "cell_type": "markdown",
   "id": "statutory-shepherd",
   "metadata": {},
   "source": [
    "### GECOPD_annotated_plink_merged.hwe\n",
    "#### P <= configured threshold (default=1x10^-6)"
   ]
  },
  {
   "cell_type": "code",
   "execution_count": 44,
   "id": "understood-division",
   "metadata": {},
   "outputs": [
    {
     "name": "stdout",
     "output_type": "stream",
     "text": [
      "# of Rows for P <= 1x10^-6: 4668798\n"
     ]
    }
   ],
   "source": [
    "df_hwe_psmall = df_hwe[df_hwe[\"P\"] <= 10 ** -6]\n",
    "print(\"# of Rows for P <= 1x10^-6: \" + str(df_hwe_psmall.shape[0]))"
   ]
  },
  {
   "cell_type": "code",
   "execution_count": 45,
   "id": "falling-geography",
   "metadata": {},
   "outputs": [
    {
     "data": {
      "text/html": [
       "<div>\n",
       "<style scoped>\n",
       "    .dataframe tbody tr th:only-of-type {\n",
       "        vertical-align: middle;\n",
       "    }\n",
       "\n",
       "    .dataframe tbody tr th {\n",
       "        vertical-align: top;\n",
       "    }\n",
       "\n",
       "    .dataframe thead th {\n",
       "        text-align: right;\n",
       "    }\n",
       "</style>\n",
       "<table border=\"1\" class=\"dataframe\">\n",
       "  <thead>\n",
       "    <tr style=\"text-align: right;\">\n",
       "      <th></th>\n",
       "      <th>P &lt;= 1x10^-6</th>\n",
       "    </tr>\n",
       "  </thead>\n",
       "  <tbody>\n",
       "    <tr>\n",
       "      <th>Row Count</th>\n",
       "      <td>4668798</td>\n",
       "    </tr>\n",
       "    <tr>\n",
       "      <th>Rows Lost</th>\n",
       "      <td>50435510</td>\n",
       "    </tr>\n",
       "  </tbody>\n",
       "</table>\n",
       "</div>"
      ],
      "text/plain": [
       "           P <= 1x10^-6\n",
       "Row Count       4668798\n",
       "Rows Lost      50435510"
      ]
     },
     "execution_count": 45,
     "metadata": {},
     "output_type": "execute_result"
    }
   ],
   "source": [
    "hwe_diff = {\n",
    "    \"P <= 1x10^-6\": [df_hwe_psmall.shape[0], df_hwe.shape[0] - df_hwe_psmall.shape[0]]\n",
    "}\n",
    "\n",
    "df_hwe_diff = pd.DataFrame(data=hwe_diff, index=[\"Row Count\", \"Rows Lost\"])\n",
    "df_hwe_diff"
   ]
  }
 ],
 "metadata": {
  "kernelspec": {
   "display_name": "BeakerX",
   "language": "python",
   "name": "beakerx"
  },
  "language_info": {
   "codemirror_mode": {
    "name": "ipython",
    "version": 3
   },
   "file_extension": ".py",
   "mimetype": "text/x-python",
   "name": "python",
   "nbconvert_exporter": "python",
   "pygments_lexer": "ipython3",
   "version": "3.7.3"
  }
 },
 "nbformat": 4,
 "nbformat_minor": 5
}
