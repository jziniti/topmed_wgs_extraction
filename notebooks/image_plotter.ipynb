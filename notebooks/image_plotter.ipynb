{
 "cells": [
  {
   "cell_type": "code",
   "execution_count": 1,
   "id": "sharing-cache",
   "metadata": {},
   "outputs": [],
   "source": [
    "import matplotlib.pyplot as plt\n",
    "import networkx as nx"
   ]
  },
  {
   "cell_type": "code",
   "execution_count": 7,
   "id": "silent-advertising",
   "metadata": {},
   "outputs": [
    {
     "name": "stdout",
     "output_type": "stream",
     "text": [
      "local\n"
     ]
    }
   ],
   "source": [
    "if 'snakemake' in locals():\n",
    "    print(\"snakemake\")\n",
    "    group_id = snakemake.params.group_ids\n",
    "else:\n",
    "    group_id = 10\n",
    "    print(\"local\")"
   ]
  },
  {
   "cell_type": "code",
   "execution_count": 10,
   "id": "infrared-swedish",
   "metadata": {},
   "outputs": [],
   "source": [
    "file_path = f'images/{group_id}.txt'\n",
    "f = open(file_path, \"a\")\n",
    "f.close()"
   ]
  }
 ],
 "metadata": {
  "kernelspec": {
   "display_name": "cdnm-jupyter-python-3.7.6",
   "language": "python",
   "name": "cdnm-jupyter-python-3.7.6"
  },
  "language_info": {
   "codemirror_mode": {
    "name": "ipython",
    "version": 3
   },
   "file_extension": ".py",
   "mimetype": "text/x-python",
   "name": "python",
   "nbconvert_exporter": "python",
   "pygments_lexer": "ipython3",
   "version": "3.9.7"
  }
 },
 "nbformat": 4,
 "nbformat_minor": 5
}
