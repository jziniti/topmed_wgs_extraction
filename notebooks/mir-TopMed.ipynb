{
 "cells": [
  {
   "cell_type": "code",
   "execution_count": 2,
   "id": "cultural-power",
   "metadata": {},
   "outputs": [],
   "source": [
    "import pandas as pd\n",
    "import matplotlib.pyplot as plt\n",
    "import seaborn as sns"
   ]
  },
  {
   "cell_type": "code",
   "execution_count": 3,
   "id": "raised-ozone",
   "metadata": {},
   "outputs": [
    {
     "name": "stdout",
     "output_type": "stream",
     "text": [
      "local\n"
     ]
    }
   ],
   "source": [
    "if 'snakemake' in locals():\n",
    "    print('Snakemake')\n",
    "    print(f'{snakemake.input}')\n",
    "    df_fam = pd.read_csv(snakemake.input.pop_file, delim_whitespace=True, header=None)\n",
    "    df_bim = pd.read_csv(snakemake.input.chrom_file, delim_whitespace=True, header=None)\n",
    "    df_kin = pd.read_csv(snakemake.input.kin_file, delim_whitespace=True)\n",
    "    df_sexcheck = pd.read_csv(snakemake.input.sexcheck_file, delim_whitespace=True)\n",
    "    df_hwe = pd.read_csv(snakemake.input.hwe_file, delim_whitespace=True)\n",
    "    frq_tbl = pd.read_csv(snakemake.input.frq_file, delim_whitespace=True)\n",
    "    het_tbl = pd.read_csv(snakemake.input.het_file, delim_whitespace=True)\n",
    "    imiss_tbl = pd.read_csv(snakemake.input.imiss_file, delim_whitespace=True)\n",
    "    lmiss_tbl = pd.read_csv(snakemake.input.lmiss_file, delim_whitespace=True)\n",
    "    kin0_tbl = pd.read_csv(snakemake.input.kin0_file, delim_whitespace=True)\n",
    "    \n",
    "    sample_flags=\"flags/{s_studyid}_samples.csv\"\n",
    "    \n",
    "    Error_one = f'Error == {snakemake.params.Error_one}'\n",
    "    Error_two = f'Error == {snakemake.params.Error_two}'\n",
    "    Kinship = f'Kinship >= {snakemake.params.Kinship}'\n",
    "    SNPSEX = f'SNPSEX == {snakemake.params.SNPSEX}'\n",
    "    P = f'P <= {snakemake.params.P}'\n",
    "    f_bound = snakemake.params.f_bound\n",
    "else:\n",
    "    print('local')\n",
    "    path = '/proj/regeps/regep00/studies/TopMed/data/dna/whole_genome/TopMed/data/freezes/freeze.10.cdnm/tmp/sav/'\n",
    "    s_studyid = 'GECOPD'\n",
    "    \n",
    "    frq_file = path+s_studyid+'_annotated_plink_merged.frq'\n",
    "    het_file = path+s_studyid+'_annotated_plink_merged.het'\n",
    "    imiss_file = path+s_studyid+'_annotated_plink_merged.imiss'\n",
    "    lmiss_file = path+s_studyid+'_annotated_plink_merged.lmiss'\n",
    "    #kin0_file = '/proj/regeps/regep00/studies/TopMed/data/dna/whole_genome/TopMed/data/freezes/freeze.10.cdnm/tmp/GECOPD_king.kin0'\n",
    "    \n",
    "    df_fam = pd.read_csv(\"/proj/regeps/regep00/studies/TopMed/data/dna/whole_genome/TopMed/data/freezes/freeze.10.cdnm/tmp/sav/GECOPD_annotated_plink_merged.fam\", delim_whitespace=True, header=None)\n",
    "    df_bim = pd.read_csv(\"/proj/regeps/regep00/studies/TopMed/data/dna/whole_genome/TopMed/data/freezes/freeze.10.cdnm/tmp/sav/GECOPD_annotated_plink_merged.bim.original\", delim_whitespace=True, header=None)\n",
    "    df_kin = pd.read_csv(\"/proj/regeps/regep00/studies/TopMed/data/dna/whole_genome/TopMed/data/freezes/freeze.10.cdnm/tmp/GECOPD_annotated_plink_merged.kin\", delim_whitespace=True)\n",
    "    df_sexcheck = pd.read_csv(\"/proj/regeps/regep00/studies/TopMed/data/dna/whole_genome/TopMed/data/freezes/freeze.10.cdnm/tmp/GECOPD_annotated_plink_merged.sexcheck\", delim_whitespace=True)\n",
    "    df_hwe = pd.read_csv(\"/proj/regeps/regep00/studies/TopMed/data/dna/whole_genome/TopMed/data/freezes/freeze.10.cdnm/tmp/GECOPD_annotated_plink_merged.hwe\", delim_whitespace=True)\n",
    "    frq_tbl = pd.read_csv(frq_file, delim_whitespace=True)\n",
    "    het_tbl = pd.read_csv(het_file, delim_whitespace=True)\n",
    "    imiss_tbl = pd.read_csv(imiss_file, delim_whitespace=True)\n",
    "    lmiss_tbl = pd.read_csv(lmiss_file, delim_whitespace=True)\n",
    "    #kin0_tbl = pd.read_csv(kin0_file, delim_whitespace=True)\n",
    "    \n",
    "    Error_one = \"Error == 1\"\n",
    "    Error_two = \"Error == 0.5\"\n",
    "    Kinship = \"Kinship >= 0.354\"\n",
    "    SNPSEX = \"SNPSEX == 0\"\n",
    "    P = \"P <= 0.000001\"\n",
    "    f_bound = 0.2\n",
    "    imiss_range = [10,20]\n",
    "    lmiss_range = [1,5]"
   ]
  },
  {
   "cell_type": "markdown",
   "id": "ordered-tunisia",
   "metadata": {},
   "source": [
    "### GECOPD_annotated_plink_merged.fam\n",
    "#### Show population details"
   ]
  },
  {
   "cell_type": "code",
   "execution_count": null,
   "id": "spatial-phase",
   "metadata": {},
   "outputs": [],
   "source": [
    "print(\"Population...\")\n",
    "print(\"# of Rows: \" + str(df_fam.shape[0]))\n",
    "print(\"# of Columns: \" + str(df_fam.shape[1]))"
   ]
  },
  {
   "cell_type": "code",
   "execution_count": 5,
   "id": "valued-matrix",
   "metadata": {},
   "outputs": [
    {
     "data": {
      "text/plain": [
       "0    0\n",
       "1    0\n",
       "2    0\n",
       "3    0\n",
       "4    0\n",
       "5    0\n",
       "dtype: int64"
      ]
     },
     "execution_count": 5,
     "metadata": {},
     "output_type": "execute_result"
    }
   ],
   "source": [
    "# Show null/missing values per column\n",
    "df_fam.isnull().sum()"
   ]
  },
  {
   "cell_type": "code",
   "execution_count": 6,
   "id": "mounted-dover",
   "metadata": {},
   "outputs": [],
   "source": [
    "# Ensure that column 1 has no repeated values\n",
    "assert(df_fam[1].value_counts().sum() == df_fam.shape[0])"
   ]
  },
  {
   "cell_type": "markdown",
   "id": "historic-apartment",
   "metadata": {},
   "source": [
    "### GECOPD_annotated_plink_merged.bim\n",
    "#### Show counts/total for column 0"
   ]
  },
  {
   "cell_type": "code",
   "execution_count": 7,
   "id": "conservative-reason",
   "metadata": {},
   "outputs": [
    {
     "name": "stdout",
     "output_type": "stream",
     "text": [
      "# of rows in column 0: 55104308\n"
     ]
    }
   ],
   "source": [
    "print(\"# of rows in column 0: \" + str(df_bim[0].count()))"
   ]
  },
  {
   "cell_type": "code",
   "execution_count": 8,
   "id": "abandoned-williams",
   "metadata": {},
   "outputs": [],
   "source": [
    "# write chromosome counts to a file\n",
    "counts = df_bim[0].value_counts()\n",
    "\n",
    "f = open(\"tmp/reaka_output.txt\", \"a\")\n",
    "f.write(\"Chromosome Counts in GECOPD_annotated_plink_merged.fam\\n\")\n",
    "for idx in counts.index:\n",
    "    f.write(f'{idx}: {counts[idx]}\\n')"
   ]
  },
  {
   "cell_type": "code",
   "execution_count": 9,
   "id": "preceding-panama",
   "metadata": {},
   "outputs": [
    {
     "data": {
      "image/png": "[encoded data removed]",
      "text/plain": [
       "<Figure size 1440x720 with 1 Axes>"
      ]
     },
     "metadata": {
      "needs_background": "light"
     },
     "output_type": "display_data"
    }
   ],
   "source": [
    "f_plot = plt.figure()\n",
    "f_plot.set_figwidth(20)\n",
    "f_plot.set_figheight(10)\n",
    "\n",
    "df_bim[0].value_counts().plot(kind= \"barh\");\n",
    "plt.title(\"Chromosome Counts\");\n",
    "plt.ylabel(\"Chromosome\");\n",
    "plt.xlabel(\"Count\");"
   ]
  },
  {
   "cell_type": "code",
   "execution_count": 10,
   "id": "under-expression",
   "metadata": {},
   "outputs": [],
   "source": [
    "''' Shows the number of rows and the number of lost rows given certain query contrainsts on a DataFrame\n",
    "\n",
    "Input:\n",
    "    - df: DataFrame with data of interest\n",
    "    - constraints: List of querry strings \n",
    "    \n",
    "Output:\n",
    "    - result_df: DataFrame showing row count and rows lost\n",
    "'''\n",
    "def generate_lost_df(df, constraints):\n",
    "    diff_data = {}\n",
    "    \n",
    "    for curr in constraints:\n",
    "        df_contrained = df.query(curr)\n",
    "        diff_data[curr] = [df_contrained.shape[0], df.shape[0] - df_contrained.shape[0]]\n",
    "        \n",
    "    result_df = pd.DataFrame(data=diff_data, index=[\"Row Count\", \"Rows Lost\"])\n",
    "        \n",
    "    return result_df"
   ]
  },
  {
   "cell_type": "markdown",
   "id": "statutory-daughter",
   "metadata": {},
   "source": [
    "### GECOPD_annotated_plink_merged.kin"
   ]
  },
  {
   "cell_type": "markdown",
   "id": "institutional-cabinet",
   "metadata": {},
   "source": [
    "#### Show Error=1, Error=0.5, Kinship >= 0.354"
   ]
  },
  {
   "cell_type": "code",
   "execution_count": 11,
   "id": "apart-champagne",
   "metadata": {},
   "outputs": [
    {
     "data": {
      "text/html": [
       "<div>\n",
       "<style scoped>\n",
       "    .dataframe tbody tr th:only-of-type {\n",
       "        vertical-align: middle;\n",
       "    }\n",
       "\n",
       "    .dataframe tbody tr th {\n",
       "        vertical-align: top;\n",
       "    }\n",
       "\n",
       "    .dataframe thead th {\n",
       "        text-align: right;\n",
       "    }\n",
       "</style>\n",
       "<table border=\"1\" class=\"dataframe\">\n",
       "  <thead>\n",
       "    <tr style=\"text-align: right;\">\n",
       "      <th></th>\n",
       "      <th>Error == 1</th>\n",
       "      <th>Error == 0.5</th>\n",
       "      <th>Kinship &gt;= 0.354</th>\n",
       "    </tr>\n",
       "  </thead>\n",
       "  <tbody>\n",
       "    <tr>\n",
       "      <th>Row Count</th>\n",
       "      <td>29346</td>\n",
       "      <td>1816277</td>\n",
       "      <td>164</td>\n",
       "    </tr>\n",
       "    <tr>\n",
       "      <th>Rows Lost</th>\n",
       "      <td>56018232</td>\n",
       "      <td>54231301</td>\n",
       "      <td>56047414</td>\n",
       "    </tr>\n",
       "  </tbody>\n",
       "</table>\n",
       "</div>"
      ],
      "text/plain": [
       "           Error == 1  Error == 0.5  Kinship >= 0.354\n",
       "Row Count       29346       1816277               164\n",
       "Rows Lost    56018232      54231301          56047414"
      ]
     },
     "execution_count": 11,
     "metadata": {},
     "output_type": "execute_result"
    }
   ],
   "source": [
    "kin_lost_df = generate_lost_df(df_kin, [Error_one, Error_two, Kinship])\n",
    "kin_lost_df"
   ]
  },
  {
   "cell_type": "code",
   "execution_count": 12,
   "id": "catholic-citizenship",
   "metadata": {},
   "outputs": [],
   "source": [
    "# write number of lost rows to file\n",
    "f.write(\"Rows lost when...\\n\")\n",
    "f.write(f'{Error_one}: {kin_lost_df[Error_one][\"Rows Lost\"]}\\n')\n",
    "f.write(f'{Error_two}: {kin_lost_df[Error_two][\"Rows Lost\"]}\\n')\n",
    "f.write(f'{Kinship}: {kin_lost_df[Kinship][\"Rows Lost\"]}\\n')"
   ]
  },
  {
   "cell_type": "markdown",
   "id": "covered-benjamin",
   "metadata": {},
   "source": [
    "### GECOPD_annotated_plink_merged.sexcheck"
   ]
  },
  {
   "cell_type": "markdown",
   "id": "orange-citizen",
   "metadata": {},
   "source": [
    "#### Histogram of F"
   ]
  },
  {
   "cell_type": "code",
   "execution_count": 13,
   "id": "elementary-cisco",
   "metadata": {},
   "outputs": [
    {
     "data": {
      "image/png": "[encoded data removed]",
      "text/plain": [
       "<Figure size 432x288 with 1 Axes>"
      ]
     },
     "metadata": {
      "needs_background": "light"
     },
     "output_type": "display_data"
    }
   ],
   "source": [
    "plt.hist(df_sexcheck[\"F\"]);\n",
    "plt.title(\"Histogram of F\");\n",
    "plt.ylabel(\"Frequency\");\n",
    "plt.xlabel(\"F Values\");"
   ]
  },
  {
   "cell_type": "markdown",
   "id": "olive-uniform",
   "metadata": {},
   "source": [
    "#### Table of SNPSEX == 0"
   ]
  },
  {
   "cell_type": "code",
   "execution_count": 14,
   "id": "unauthorized-encyclopedia",
   "metadata": {},
   "outputs": [
    {
     "data": {
      "text/html": [
       "<div>\n",
       "<style scoped>\n",
       "    .dataframe tbody tr th:only-of-type {\n",
       "        vertical-align: middle;\n",
       "    }\n",
       "\n",
       "    .dataframe tbody tr th {\n",
       "        vertical-align: top;\n",
       "    }\n",
       "\n",
       "    .dataframe thead th {\n",
       "        text-align: right;\n",
       "    }\n",
       "</style>\n",
       "<table border=\"1\" class=\"dataframe\">\n",
       "  <thead>\n",
       "    <tr style=\"text-align: right;\">\n",
       "      <th></th>\n",
       "      <th>SNPSEX == 0</th>\n",
       "    </tr>\n",
       "  </thead>\n",
       "  <tbody>\n",
       "    <tr>\n",
       "      <th>Row Count</th>\n",
       "      <td>3026</td>\n",
       "    </tr>\n",
       "    <tr>\n",
       "      <th>Rows Lost</th>\n",
       "      <td>7562</td>\n",
       "    </tr>\n",
       "  </tbody>\n",
       "</table>\n",
       "</div>"
      ],
      "text/plain": [
       "           SNPSEX == 0\n",
       "Row Count         3026\n",
       "Rows Lost         7562"
      ]
     },
     "execution_count": 14,
     "metadata": {},
     "output_type": "execute_result"
    }
   ],
   "source": [
    "df_sexcheck_lost = generate_lost_df(df_sexcheck, [SNPSEX])\n",
    "df_sexcheck_lost"
   ]
  },
  {
   "cell_type": "code",
   "execution_count": 15,
   "id": "ruled-wallet",
   "metadata": {},
   "outputs": [],
   "source": [
    "# write number of lost rows to file\n",
    "f.write(\"Rows lost when...\\n\")\n",
    "f.write(f'{SNPSEX}: {df_sexcheck_lost[SNPSEX][\"Rows Lost\"]}\\n')"
   ]
  },
  {
   "cell_type": "markdown",
   "id": "statewide-preserve",
   "metadata": {},
   "source": [
    "#### Count of each SNPSEX value"
   ]
  },
  {
   "cell_type": "code",
   "execution_count": 16,
   "id": "attached-edinburgh",
   "metadata": {},
   "outputs": [
    {
     "data": {
      "text/plain": [
       "1    5623\n",
       "0    3026\n",
       "2    1939\n",
       "Name: SNPSEX, dtype: int64"
      ]
     },
     "execution_count": 16,
     "metadata": {},
     "output_type": "execute_result"
    }
   ],
   "source": [
    "df_sexcheck[\"SNPSEX\"].value_counts()"
   ]
  },
  {
   "cell_type": "markdown",
   "id": "worldwide-advertiser",
   "metadata": {},
   "source": [
    "### GECOPD_annotated_plink_merged.hwe\n",
    "#### P <= configured threshold (default=1x10^-6)"
   ]
  },
  {
   "cell_type": "code",
   "execution_count": 17,
   "id": "martial-consent",
   "metadata": {},
   "outputs": [
    {
     "data": {
      "text/html": [
       "<div>\n",
       "<style scoped>\n",
       "    .dataframe tbody tr th:only-of-type {\n",
       "        vertical-align: middle;\n",
       "    }\n",
       "\n",
       "    .dataframe tbody tr th {\n",
       "        vertical-align: top;\n",
       "    }\n",
       "\n",
       "    .dataframe thead th {\n",
       "        text-align: right;\n",
       "    }\n",
       "</style>\n",
       "<table border=\"1\" class=\"dataframe\">\n",
       "  <thead>\n",
       "    <tr style=\"text-align: right;\">\n",
       "      <th></th>\n",
       "      <th>P &lt;= 0.000001</th>\n",
       "    </tr>\n",
       "  </thead>\n",
       "  <tbody>\n",
       "    <tr>\n",
       "      <th>Row Count</th>\n",
       "      <td>4668798</td>\n",
       "    </tr>\n",
       "    <tr>\n",
       "      <th>Rows Lost</th>\n",
       "      <td>50435510</td>\n",
       "    </tr>\n",
       "  </tbody>\n",
       "</table>\n",
       "</div>"
      ],
      "text/plain": [
       "           P <= 0.000001\n",
       "Row Count        4668798\n",
       "Rows Lost       50435510"
      ]
     },
     "execution_count": 17,
     "metadata": {},
     "output_type": "execute_result"
    }
   ],
   "source": [
    "df_hwe_lost = generate_lost_df(df_hwe, [P])\n",
    "df_hwe_lost"
   ]
  },
  {
   "cell_type": "code",
   "execution_count": 18,
   "id": "novel-invalid",
   "metadata": {},
   "outputs": [],
   "source": [
    "# write number of lost rows to file\n",
    "f.write(\"Rows lost when...\\n\")\n",
    "f.write(f'{P}: {df_hwe_lost[P][\"Rows Lost\"]}\\n')\n",
    "\n",
    "    \n",
    "f.close()"
   ]
  },
  {
   "cell_type": "markdown",
   "id": "mexican-philippines",
   "metadata": {},
   "source": [
    "# MARTINA\n",
    "# MARTINA"
   ]
  },
  {
   "cell_type": "markdown",
   "id": "clean-terrorist",
   "metadata": {},
   "source": [
    "### F coefficent estimates"
   ]
  },
  {
   "cell_type": "code",
   "execution_count": 27,
   "id": "naval-beads",
   "metadata": {},
   "outputs": [
    {
     "name": "stdout",
     "output_type": "stream",
     "text": [
      "Samples out of range: 4\n",
      "\n"
     ]
    },
    {
     "data": {
      "image/png": "[encoded data removed]",
      "text/plain": [
       "<Figure size 360x360 with 1 Axes>"
      ]
     },
     "metadata": {
      "needs_background": "light"
     },
     "output_type": "display_data"
    }
   ],
   "source": [
    "def tbl_filtered_fcoe(f):\n",
    "    \n",
    "    print('Samples out of range: '+ str(het_tbl['IID'].size - het_tbl.query('F >= -0.2 and F <= 0.2')['IID'].size) + '\\n')\n",
    "    return het_tbl.query('F >= -'+str(f)).query('F <= '+str(f))\n",
    "\n",
    "tbl_filtered_fcoe(f_bound)\n",
    "\n",
    "#for the csv of flagged samples\n",
    "het_sampleflagged = het_tbl.query('F < -0.2 or F > 0.2')\n",
    "\n",
    "#plots:\n",
    "plot = sns.displot(het_tbl['F'], kde=True).set(xlim=(-0.21, 0.21))\n",
    "plt.axvline(0.2).set(color='red')\n",
    "plt.axvline(-0.2).set(color='red')\n",
    "plt.title(\"F coefficent distribution\")\n",
    "plt.show()"
   ]
  },
  {
   "cell_type": "markdown",
   "id": "cleared-brook",
   "metadata": {},
   "source": [
    "### Minor Allele Frequency "
   ]
  },
  {
   "cell_type": "code",
   "execution_count": 24,
   "id": "recovered-square",
   "metadata": {},
   "outputs": [
    {
     "data": {
      "text/plain": [
       "<seaborn.axisgrid.FacetGrid at 0x7f83611760a0>"
      ]
     },
     "execution_count": 24,
     "metadata": {},
     "output_type": "execute_result"
    },
    {
     "data": {
      "image/png": "[encoded data removed]",
      "text/plain": [
       "<Figure size 360x360 with 1 Axes>"
      ]
     },
     "metadata": {
      "needs_background": "light"
     },
     "output_type": "display_data"
    },
    {
     "data": {
      "image/png": "[encoded data removed]",
      "text/plain": [
       "<Figure size 360x360 with 1 Axes>"
      ]
     },
     "metadata": {
      "needs_background": "light"
     },
     "output_type": "display_data"
    }
   ],
   "source": [
    "#Which allele is more common and percent of less common allele\n",
    "frq_tbl.head()\n",
    "#plots \n",
    "sns.displot(frq_tbl['A1'])"
   ]
  },
  {
   "cell_type": "markdown",
   "id": "improving-violin",
   "metadata": {},
   "source": [
    "### Sample based missing data"
   ]
  },
  {
   "cell_type": "code",
   "execution_count": null,
   "id": "fitting-intellectual",
   "metadata": {},
   "outputs": [],
   "source": [
    "# how many individuals removed from data based on threshold \n",
    "def filter_missingdata(threshold, tbl):\n",
    "    total = len(tbl.index)\n",
    "    filtered = len(tbl.query('F_MISS >'+str(threshold)).index)\n",
    "    ppl_removed = 'Number of samples: '+str(filtered)\n",
    "    return filtered\n",
    "\n",
    "def missingness_range(rnge, tbl):\n",
    "    bounds = []\n",
    "    bounds.append(filter_missingdata((0), tbl))\n",
    "    percents = ['total samples']\n",
    "    for per in range(rnge[0],rnge[1]+1):\n",
    "        percents.append(per)\n",
    "        size = filter_missingdata((per/100), tbl)\n",
    "        bounds.append(size)\n",
    "\n",
    "    d = {'Num of samples': bounds}\n",
    "    df = pd.DataFrame(data=d, index=percents)\n",
    "    df.index.name = 'F_MISS % > _%'\n",
    "    return df\n",
    "\n",
    "print(missingness_range(imiss_range, imiss_tbl))\n",
    "print('\\n')\n",
    "\n",
    "#plots:\n",
    "sns.displot(imiss_tbl.query('F_MISS > 0.005')['F_MISS'], kde=True)\n",
    "plt.title('Distribution of missing call rate for samples')\n",
    "plt.show()"
   ]
  },
  {
   "cell_type": "markdown",
   "id": "annual-arbitration",
   "metadata": {},
   "source": [
    "### Variant based missing data"
   ]
  },
  {
   "cell_type": "code",
   "execution_count": 46,
   "id": "standing-catch",
   "metadata": {},
   "outputs": [
    {
     "name": "stdout",
     "output_type": "stream",
     "text": [
      "               Num of samples\n",
      "F_MISS % > _%                \n",
      "total samples        38558313\n",
      "1                      238396\n",
      "2                           0\n",
      "3                           0\n",
      "4                           0\n",
      "5                           0\n",
      "\n",
      "\n"
     ]
    },
    {
     "data": {
      "image/png": "[encoded data removed]",
      "text/plain": [
       "<Figure size 360x360 with 1 Axes>"
      ]
     },
     "metadata": {
      "needs_background": "light"
     },
     "output_type": "display_data"
    }
   ],
   "source": [
    "print(missingness_range(lmiss_range, lmiss_tbl))\n",
    "print('\\n')\n",
    "#plots \n",
    "sns.displot(lmiss_tbl.query('F_MISS > 0.005')['F_MISS'], kde=True)\n",
    "plt.title('Distribution of missing call rate for variants')\n",
    "plt.show()"
   ]
  },
  {
   "cell_type": "code",
   "execution_count": 79,
   "id": "through-roots",
   "metadata": {},
   "outputs": [],
   "source": [
    "#samples flagged based on missingness \n",
    "imiss_sampleflagged = imiss_tbl.query('F_MISS > 0.1')\n",
    "\n",
    "#markers flagged based on missingness\n",
    "lmiss_sampleflagged = lmiss_tbl.query('F_MISS > 0.01')"
   ]
  },
  {
   "cell_type": "code",
   "execution_count": 88,
   "id": "coated-march",
   "metadata": {},
   "outputs": [],
   "source": [
    "#sample \n",
    "het_sampleid = het_sampleflagged.filter(['IID'])\n",
    "het_sampleid['constraint'] = 'F < -0.2 or F > 0.2'\n",
    "\n",
    "imiss_sampleid = imiss_sampleflagged.filter(['IID'])\n",
    "imiss_sampleid['constraint'] = 'F_MISS > 0.1'\n",
    "\n",
    "flagged_samples = het_sampleid.append(imiss_sampleid)\n",
    "flagged_samples.to_csv(\"flags/sample_flagged.csv\")\n",
    "\n",
    "\n",
    "#markers\n",
    "lmiss_sampleid = lmiss_sampleflagged['SNP']"
   ]
  },
  {
   "cell_type": "markdown",
   "id": "amazing-burton",
   "metadata": {},
   "source": [
    "### Kinship data"
   ]
  },
  {
   "cell_type": "code",
   "execution_count": 15,
   "id": "gross-warrant",
   "metadata": {},
   "outputs": [],
   "source": [
    "#def filter_kinship(kin):\n",
    "#    return kin0_tbl[kin0_tbl['Kinship'] >= kin]\n",
    "\n",
    "#filter_kinship(Kinship)\n",
    "\n",
    "#plots:\n",
    "#plt.scatter(kin0_tbl['Kinship'], kin0_tbl['IBS0'], alpha=0.3)"
   ]
  },
  {
   "cell_type": "code",
   "execution_count": null,
   "id": "aerial-mambo",
   "metadata": {},
   "outputs": [],
   "source": []
  }
 ],
 "metadata": {
  "kernelspec": {
   "display_name": "cdnm-jupyter-python-3.7.6",
   "language": "python",
   "name": "cdnm-jupyter-python-3.7.6"
  },
  "language_info": {
   "codemirror_mode": {
    "name": "ipython",
    "version": 3
   },
   "file_extension": ".py",
   "mimetype": "text/x-python",
   "name": "python",
   "nbconvert_exporter": "python",
   "pygments_lexer": "ipython3",
   "version": "3.9.7"
  }
 },
 "nbformat": 4,
 "nbformat_minor": 5
}
