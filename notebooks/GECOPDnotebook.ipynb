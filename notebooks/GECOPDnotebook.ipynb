{
 "cells": [
  {
   "cell_type": "markdown",
   "id": "reliable-constraint",
   "metadata": {},
   "source": [
    "## Freeze 10 Cleanup - GECOPD"
   ]
  },
  {
   "cell_type": "code",
   "execution_count": 2,
   "id": "frank-radiation",
   "metadata": {},
   "outputs": [],
   "source": [
    "import pandas as pd \n",
    "import matplotlib.pyplot as plt\n",
    "import seaborn as sns"
   ]
  },
  {
   "cell_type": "code",
   "execution_count": 4,
   "id": "female-earthquake",
   "metadata": {},
   "outputs": [
    {
     "name": "stdout",
     "output_type": "stream",
     "text": [
      "local\n"
     ]
    }
   ],
   "source": [
    "if 'snakemake' in locals():\n",
    "    print('Snakemake')\n",
    "    print(f'{snakemake.input}')\n",
    "else:\n",
    "    print('local')\n",
    "    \n",
    "#with open('tmp/flags_remra.txt', 'w') as fh:\n",
    "#   fh.write('')"
   ]
  },
  {
   "cell_type": "code",
   "execution_count": 7,
   "id": "owned-moisture",
   "metadata": {},
   "outputs": [],
   "source": [
    "s_studyid = 'GECOPD'\n",
    "#path = '/proj/regeps/regep00/studies/TopMed/data/dna/whole_genome/TopMed/data/freezes/freeze.10.cdnm/tmp/'\n",
    "path = '/proj/regeps/regep00/studies/TopMed/data/dna/whole_genome/TopMed/data/freezes/freeze.10.cdnm/tmp/sav/'\n",
    "\n",
    "##files:\n",
    "pop_file = path+s_studyid+'_annotated_plink_merged.fam'\n",
    "chrom_file = path+s_studyid+'_annotated_plink_merged.bim'\n",
    "kin_file = path+s_studyid+'_annotated_plink_merged.kin'\n",
    "sexcheck_file= path+s_studyid+'_annotated_plink_merged.sexcheck'\n",
    "hwe_file = path+s_studyid+'_annotated_plink_merged.hwe'\n",
    "frq_file = path+s_studyid+'_annotated_plink_merged.frq'\n",
    "het_file = path+s_studyid+'_annotated_plink_merged.het'\n",
    "imiss_file = path+s_studyid+'_annotated_plink_merged.imiss'\n",
    "lmiss_file = path+s_studyid+'_annotated_plink_merged.lmiss'\n",
    "kin0_file = '/proj/regeps/regep00/studies/TopMed/data/dna/whole_genome/TopMed/data/freezes/freeze.10.cdnm/tmp/GECOPD_king.kin0'"
   ]
  },
  {
   "cell_type": "markdown",
   "id": "exotic-juice",
   "metadata": {},
   "source": [
    "### F coefficent estimates"
   ]
  },
  {
   "cell_type": "code",
   "execution_count": 8,
   "id": "velvet-bailey",
   "metadata": {},
   "outputs": [
    {
     "name": "stdout",
     "output_type": "stream",
     "text": [
      "Samples out of range: 24\n"
     ]
    },
    {
     "data": {
      "text/html": [
       "<div>\n",
       "<style scoped>\n",
       "    .dataframe tbody tr th:only-of-type {\n",
       "        vertical-align: middle;\n",
       "    }\n",
       "\n",
       "    .dataframe tbody tr th {\n",
       "        vertical-align: top;\n",
       "    }\n",
       "\n",
       "    .dataframe thead th {\n",
       "        text-align: right;\n",
       "    }\n",
       "</style>\n",
       "<table border=\"1\" class=\"dataframe\">\n",
       "  <thead>\n",
       "    <tr style=\"text-align: right;\">\n",
       "      <th></th>\n",
       "      <th>FID</th>\n",
       "      <th>IID</th>\n",
       "      <th>O(HOM)</th>\n",
       "      <th>E(HOM)</th>\n",
       "      <th>N(NM)</th>\n",
       "      <th>F</th>\n",
       "    </tr>\n",
       "  </thead>\n",
       "  <tbody>\n",
       "    <tr>\n",
       "      <th>0</th>\n",
       "      <td>0</td>\n",
       "      <td>NWD100018</td>\n",
       "      <td>50519820</td>\n",
       "      <td>50190000.0</td>\n",
       "      <td>52481961</td>\n",
       "      <td>0.1444</td>\n",
       "    </tr>\n",
       "    <tr>\n",
       "      <th>1</th>\n",
       "      <td>0</td>\n",
       "      <td>NWD100059</td>\n",
       "      <td>50643054</td>\n",
       "      <td>50320000.0</td>\n",
       "      <td>52619882</td>\n",
       "      <td>0.1402</td>\n",
       "    </tr>\n",
       "    <tr>\n",
       "      <th>2</th>\n",
       "      <td>0</td>\n",
       "      <td>NWD100095</td>\n",
       "      <td>49982833</td>\n",
       "      <td>50320000.0</td>\n",
       "      <td>52618906</td>\n",
       "      <td>-0.1466</td>\n",
       "    </tr>\n",
       "    <tr>\n",
       "      <th>3</th>\n",
       "      <td>0</td>\n",
       "      <td>NWD100109</td>\n",
       "      <td>50624166</td>\n",
       "      <td>50320000.0</td>\n",
       "      <td>52619862</td>\n",
       "      <td>0.1320</td>\n",
       "    </tr>\n",
       "    <tr>\n",
       "      <th>4</th>\n",
       "      <td>0</td>\n",
       "      <td>NWD100230</td>\n",
       "      <td>50624825</td>\n",
       "      <td>50320000.0</td>\n",
       "      <td>52619436</td>\n",
       "      <td>0.1324</td>\n",
       "    </tr>\n",
       "    <tr>\n",
       "      <th>...</th>\n",
       "      <td>...</td>\n",
       "      <td>...</td>\n",
       "      <td>...</td>\n",
       "      <td>...</td>\n",
       "      <td>...</td>\n",
       "      <td>...</td>\n",
       "    </tr>\n",
       "    <tr>\n",
       "      <th>10583</th>\n",
       "      <td>0</td>\n",
       "      <td>NWD999840</td>\n",
       "      <td>50652831</td>\n",
       "      <td>50320000.0</td>\n",
       "      <td>52619604</td>\n",
       "      <td>0.1446</td>\n",
       "    </tr>\n",
       "    <tr>\n",
       "      <th>10584</th>\n",
       "      <td>0</td>\n",
       "      <td>NWD999849</td>\n",
       "      <td>50639076</td>\n",
       "      <td>50320000.0</td>\n",
       "      <td>52619431</td>\n",
       "      <td>0.1386</td>\n",
       "    </tr>\n",
       "    <tr>\n",
       "      <th>10585</th>\n",
       "      <td>0</td>\n",
       "      <td>NWD999930</td>\n",
       "      <td>50638536</td>\n",
       "      <td>50320000.0</td>\n",
       "      <td>52619458</td>\n",
       "      <td>0.1384</td>\n",
       "    </tr>\n",
       "    <tr>\n",
       "      <th>10586</th>\n",
       "      <td>0</td>\n",
       "      <td>NWD999969</td>\n",
       "      <td>50650374</td>\n",
       "      <td>50320000.0</td>\n",
       "      <td>52618319</td>\n",
       "      <td>0.1440</td>\n",
       "    </tr>\n",
       "    <tr>\n",
       "      <th>10587</th>\n",
       "      <td>0</td>\n",
       "      <td>NWD999984</td>\n",
       "      <td>49948122</td>\n",
       "      <td>50280000.0</td>\n",
       "      <td>52582703</td>\n",
       "      <td>-0.1466</td>\n",
       "    </tr>\n",
       "  </tbody>\n",
       "</table>\n",
       "<p>10584 rows × 6 columns</p>\n",
       "</div>"
      ],
      "text/plain": [
       "       FID        IID    O(HOM)      E(HOM)     N(NM)       F\n",
       "0        0  NWD100018  50519820  50190000.0  52481961  0.1444\n",
       "1        0  NWD100059  50643054  50320000.0  52619882  0.1402\n",
       "2        0  NWD100095  49982833  50320000.0  52618906 -0.1466\n",
       "3        0  NWD100109  50624166  50320000.0  52619862  0.1320\n",
       "4        0  NWD100230  50624825  50320000.0  52619436  0.1324\n",
       "...    ...        ...       ...         ...       ...     ...\n",
       "10583    0  NWD999840  50652831  50320000.0  52619604  0.1446\n",
       "10584    0  NWD999849  50639076  50320000.0  52619431  0.1386\n",
       "10585    0  NWD999930  50638536  50320000.0  52619458  0.1384\n",
       "10586    0  NWD999969  50650374  50320000.0  52618319  0.1440\n",
       "10587    0  NWD999984  49948122  50280000.0  52582703 -0.1466\n",
       "\n",
       "[10584 rows x 6 columns]"
      ]
     },
     "execution_count": 8,
     "metadata": {},
     "output_type": "execute_result"
    }
   ],
   "source": [
    "#table var :\n",
    "#table of F > |0.2| , distribution of F with 0.2/-0.2 marked\n",
    "het_tbl = pd.read_csv(het_file, delim_whitespace=True)\n",
    "\n",
    "def tbl_filtered_fcoe(f_bound):\n",
    "    print('Samples out of range: '+ str(het_tbl.size - het_tbl.query('F >= -0.2').query('F <= 0.2').size))\n",
    "    return het_tbl.query('F >= -'+str(f_bound)).query('F <= '+str(f_bound))\n",
    "\n",
    "tbl_filtered_fcoe(0.2)\n"
   ]
  },
  {
   "cell_type": "code",
   "execution_count": 5,
   "id": "criminal-moldova",
   "metadata": {},
   "outputs": [
    {
     "data": {
      "text/plain": [
       "<seaborn.axisgrid.FacetGrid at 0x7faa92a947f0>"
      ]
     },
     "execution_count": 5,
     "metadata": {},
     "output_type": "execute_result"
    },
    {
     "data": {
      "image/png": "[encoded data removed]",
      "text/plain": [
       "<Figure size 360x360 with 1 Axes>"
      ]
     },
     "metadata": {
      "needs_background": "light"
     },
     "output_type": "display_data"
    }
   ],
   "source": [
    "#plots:\n",
    "sns.displot(het_tbl['F'], kde=True)\n",
    "#plt.hist(het_tbl['F'])"
   ]
  },
  {
   "cell_type": "markdown",
   "id": "willing-violin",
   "metadata": {},
   "source": [
    "### Sample based missing data "
   ]
  },
  {
   "cell_type": "code",
   "execution_count": 9,
   "id": "mature-classification",
   "metadata": {},
   "outputs": [],
   "source": [
    "#table var :\n",
    "imiss_tbl = pd.read_csv(imiss_file, delim_whitespace=True)"
   ]
  },
  {
   "cell_type": "code",
   "execution_count": 12,
   "id": "serial-contribution",
   "metadata": {},
   "outputs": [
    {
     "name": "stdout",
     "output_type": "stream",
     "text": [
      "   F_MISS >  Num of samples\n",
      "0     total           63528\n",
      "1        10             144\n",
      "2        11             126\n",
      "3        12             114\n",
      "4        13             102\n",
      "5        14              96\n",
      "6        15              96\n",
      "7        16              84\n",
      "8        17              60\n",
      "9        18              54\n",
      "10       19              42\n",
      "11       20              42\n"
     ]
    }
   ],
   "source": [
    "# how many individuals removed from data based on threshold \n",
    "def filter_missingdata(threshold, tbl):\n",
    "    total = tbl.size\n",
    "    filtered = tbl.query('F_MISS >'+str(threshold)).size\n",
    "    ppl_removed = 'The people filtered out: '+str(filtered)\n",
    "    return filtered\n",
    "\n",
    "sizes = []\n",
    "sizes.append(filter_missingdata((0), imiss_tbl))\n",
    "percents = ['total',10,11,12,13,14,15,16,17,18,19,20]\n",
    "for per in range(10,21):\n",
    "    size = filter_missingdata((per/100), imiss_tbl)\n",
    "    sizes.append(size)\n",
    "\n",
    "d = {'F_MISS >': percents, 'Num of samples': sizes}\n",
    "print(pd.DataFrame(data=d))"
   ]
  },
  {
   "cell_type": "code",
   "execution_count": 40,
   "id": "simple-current",
   "metadata": {},
   "outputs": [
    {
     "data": {
      "text/plain": [
       "<seaborn.axisgrid.FacetGrid at 0x7faa904550a0>"
      ]
     },
     "execution_count": 40,
     "metadata": {},
     "output_type": "execute_result"
    },
    {
     "data": {
      "image/png": "[encoded data removed]",
      "text/plain": [
       "<Figure size 360x360 with 1 Axes>"
      ]
     },
     "metadata": {
      "needs_background": "light"
     },
     "output_type": "display_data"
    }
   ],
   "source": [
    "#plots:\n",
    "sns.displot(imiss_tbl.query('F_MISS > 0.005')['F_MISS'], kde=True)"
   ]
  },
  {
   "cell_type": "markdown",
   "id": "expanded-original",
   "metadata": {},
   "source": [
    "### Variant based missing data"
   ]
  },
  {
   "cell_type": "code",
   "execution_count": 13,
   "id": "neither-tampa",
   "metadata": {},
   "outputs": [
    {
     "name": "stdout",
     "output_type": "stream",
     "text": [
      "          CHR           SNP  N_MISS  N_GENO    F_MISS\n",
      "0           1      1:128667      14   10588  0.001322\n",
      "1           1      1:138300      15   10588  0.001417\n",
      "2           1      1:138532       6   10588  0.000567\n",
      "3           1      1:139309       5   10588  0.000472\n",
      "4           1      1:139365       4   10588  0.000378\n",
      "...       ...           ...     ...     ...       ...\n",
      "55104303   23  23:156025243      11   10588  0.001039\n",
      "55104304   23  23:156025294      18   10588  0.001700\n",
      "55104305   23  23:156025353      24   10588  0.002267\n",
      "55104306   23  23:156025475      49   10588  0.004628\n",
      "55104307   23  23:156025650     201   10588  0.018980\n",
      "\n",
      "[55104308 rows x 5 columns]\n"
     ]
    }
   ],
   "source": [
    "#table var :\n",
    "lmiss_tbl = pd.read_csv(lmiss_file, delim_whitespace=True)\n",
    "print(lmiss_tbl)"
   ]
  },
  {
   "cell_type": "code",
   "execution_count": 14,
   "id": "according-karen",
   "metadata": {},
   "outputs": [
    {
     "name": "stdout",
     "output_type": "stream",
     "text": [
      "  F_MISS %  Num of samples removed\n",
      "0    total                   63528\n",
      "1        1                     708\n",
      "2        2                     438\n",
      "3        3                     330\n",
      "4        4                     306\n",
      "5        5                     258\n"
     ]
    }
   ],
   "source": [
    "# how many individuals removed from data based on threshold \n",
    "sizes = []\n",
    "sizes.append(filter_missingdata((0), imiss_tbl))\n",
    "percents = ['total',1,2,3,4,5]\n",
    "for per in range(1,6):\n",
    "    size = filter_missingdata((per/100), imiss_tbl)\n",
    "    sizes.append(size)\n",
    "\n",
    "d = {'F_MISS %': percents, 'Num of samples removed': sizes}\n",
    "print(pd.DataFrame(data=d))"
   ]
  },
  {
   "cell_type": "code",
   "execution_count": 47,
   "id": "legitimate-australian",
   "metadata": {},
   "outputs": [
    {
     "data": {
      "text/plain": [
       "<seaborn.axisgrid.FacetGrid at 0x7faa8240e160>"
      ]
     },
     "execution_count": 47,
     "metadata": {},
     "output_type": "execute_result"
    },
    {
     "data": {
      "image/png": "[encoded data removed]",
      "text/plain": [
       "<Figure size 360x360 with 1 Axes>"
      ]
     },
     "metadata": {
      "needs_background": "light"
     },
     "output_type": "display_data"
    }
   ],
   "source": [
    "#plots:\n",
    "#plt.hist(lmiss_tbl['F_MISS'])\n",
    "sns.displot(lmiss_tbl.query('F_MISS > 0.005')['F_MISS'], kde=True)"
   ]
  },
  {
   "cell_type": "markdown",
   "id": "indonesian-ethernet",
   "metadata": {},
   "source": [
    "IBS0 vs Kinship , Table of Kinship >= 0.354 "
   ]
  },
  {
   "cell_type": "code",
   "execution_count": 15,
   "id": "occupational-burning",
   "metadata": {},
   "outputs": [
    {
     "name": "stderr",
     "output_type": "stream",
     "text": [
      "/udd/remra/.conda/envs/cdnm-jupyter-python-3.7.6/lib/python3.9/site-packages/IPython/core/interactiveshell.py:3169: DtypeWarning: Columns (0) have mixed types.Specify dtype option on import or set low_memory=False.\n",
      "  has_raised = await self.run_ast_nodes(code_ast.body, cell_name,\n"
     ]
    }
   ],
   "source": [
    "#table var :\n",
    "kin0_tbl = pd.read_csv(kin0_file, delim_whitespace=True)\n",
    "\n",
    "def filter_kinship(kin_coef):\n",
    "    return kin0_tbl[kin0_tbl['Kinship'] >= kin_coef]"
   ]
  },
  {
   "cell_type": "code",
   "execution_count": 49,
   "id": "hired-surrey",
   "metadata": {},
   "outputs": [
    {
     "data": {
      "text/plain": [
       "<matplotlib.collections.PathCollection at 0x7fa98bf9af70>"
      ]
     },
     "execution_count": 49,
     "metadata": {},
     "output_type": "execute_result"
    },
    {
     "data": {
      "image/png": "[encoded data removed]",
      "text/plain": [
       "<Figure size 432x288 with 1 Axes>"
      ]
     },
     "metadata": {
      "needs_background": "light"
     },
     "output_type": "display_data"
    }
   ],
   "source": [
    "#plots:\n",
    "plt.scatter(kin0_tbl['Kinship'], kin0_tbl['IBS0'], alpha=0.3)"
   ]
  },
  {
   "cell_type": "code",
   "execution_count": null,
   "id": "controlled-small",
   "metadata": {},
   "outputs": [],
   "source": []
  }
 ],
 "metadata": {
  "kernelspec": {
   "display_name": "cdnm-jupyter-python-3.7.6",
   "language": "python",
   "name": "cdnm-jupyter-python-3.7.6"
  },
  "language_info": {
   "codemirror_mode": {
    "name": "ipython",
    "version": 3
   },
   "file_extension": ".py",
   "mimetype": "text/x-python",
   "name": "python",
   "nbconvert_exporter": "python",
   "pygments_lexer": "ipython3",
   "version": "3.9.7"
  }
 },
 "nbformat": 4,
 "nbformat_minor": 5
}
