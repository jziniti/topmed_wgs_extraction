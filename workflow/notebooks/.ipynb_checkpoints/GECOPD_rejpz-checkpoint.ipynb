{
 "cells": [
  {
   "cell_type": "markdown",
   "id": "communist-thanks",
   "metadata": {},
   "source": [
    "## Freeze 10 Cleanup - GECOPD"
   ]
  },
  {
   "cell_type": "code",
   "execution_count": 1,
   "id": "cubic-order",
   "metadata": {},
   "outputs": [
    {
     "name": "stdout",
     "output_type": "stream",
     "text": [
      "local\n"
     ]
    }
   ],
   "source": [
    "if 'snakemake' in locals():\n",
    "    print('Snakemake')\n",
    "    print(f'{snakemake.input}')\n",
    "else:\n",
    "    print('local')\n",
    "    \n",
    "with open('tmp/flags_rejpz.txt', 'w') as fh:\n",
    "    fh.write('')\n"
   ]
  },
  {
   "cell_type": "markdown",
   "id": "sexual-sherman",
   "metadata": {},
   "source": [
    "table of F > |0.2| , distribution of F with 0.2/-0.2 marked"
   ]
  },
  {
   "cell_type": "markdown",
   "id": "incorporate-distributor",
   "metadata": {},
   "source": [
    "table of F_MISS > configured threshold (10-20%) , distribution of F_MISS"
   ]
  },
  {
   "cell_type": "markdown",
   "id": "divided-bikini",
   "metadata": {},
   "source": [
    "Count of markers F_MISS > configured threshold (1-5%) , \n",
    "Distribution of F_MISS"
   ]
  },
  {
   "cell_type": "markdown",
   "id": "challenging-niger",
   "metadata": {},
   "source": [
    "IBS0 vs Kinship , Table of Kinship >= 0.354 "
   ]
  }
 ],
 "metadata": {
  "kernelspec": {
   "display_name": "cdnm-jupyter-python-3.7.6",
   "language": "python",
   "name": "cdnm-jupyter-python-3.7.6"
  },
  "language_info": {
   "codemirror_mode": {
    "name": "ipython",
    "version": 3
   },
   "file_extension": ".py",
   "mimetype": "text/x-python",
   "name": "python",
   "nbconvert_exporter": "python",
   "pygments_lexer": "ipython3",
   "version": "3.9.4"
  }
 },
 "nbformat": 4,
 "nbformat_minor": 5
}
